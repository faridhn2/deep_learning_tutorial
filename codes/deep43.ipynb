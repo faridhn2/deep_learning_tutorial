{
 "cells": [
  {
   "cell_type": "markdown",
   "metadata": {},
   "source": [
    "# GAN"
   ]
  },
  {
   "cell_type": "code",
   "execution_count": 1,
   "metadata": {},
   "outputs": [
    {
     "name": "stdout",
     "output_type": "stream",
     "text": [
      "WARNING:tensorflow:From C:\\Users\\Farid\\anaconda3-NEW\\lib\\site-packages\\tensorflow\\python\\compat\\v2_compat.py:101: disable_resource_variables (from tensorflow.python.ops.variable_scope) is deprecated and will be removed in a future version.\n",
      "Instructions for updating:\n",
      "non-resource variables are not supported in the long term\n"
     ]
    }
   ],
   "source": [
    "import tensorflow.compat.v1 as tf\n",
    "tf.disable_v2_behavior()\n",
    "import numpy as np\n",
    "import matplotlib.pyplot as plt\n",
    "%matplotlib inline"
   ]
  },
  {
   "cell_type": "markdown",
   "metadata": {},
   "source": [
    "## The Data"
   ]
  },
  {
   "cell_type": "code",
   "execution_count": 2,
   "metadata": {},
   "outputs": [],
   "source": [
    "def one_hot(x):\n",
    "    a = [0]*10\n",
    "    a[x]=1\n",
    "    return a"
   ]
  },
  {
   "cell_type": "code",
   "execution_count": 3,
   "metadata": {},
   "outputs": [
    {
     "name": "stdout",
     "output_type": "stream",
     "text": [
      "(60000, 784)\n"
     ]
    }
   ],
   "source": [
    "with np.load('mnist.npz') as data:\n",
    "    train_examples = data['x_train'].reshape(-1,784)\n",
    "    train_labels = list(map(one_hot,data['y_train']))\n",
    "    test_examples = data['x_test'].reshape(-1,784)\n",
    "    test_labels = list(map(one_hot,data['y_test']))\n",
    "print(train_examples.shape)"
   ]
  },
  {
   "cell_type": "code",
   "execution_count": 4,
   "metadata": {},
   "outputs": [
    {
     "data": {
      "text/plain": [
       "<matplotlib.image.AxesImage at 0x13544a9970>"
      ]
     },
     "execution_count": 4,
     "metadata": {},
     "output_type": "execute_result"
    },
    {
     "data": {
      "image/png": "[encoded data removed]",
      "text/plain": [
       "<Figure size 432x288 with 1 Axes>"
      ]
     },
     "metadata": {
      "needs_background": "light"
     },
     "output_type": "display_data"
    }
   ],
   "source": [
    "plt.imshow(train_examples[5].reshape(28,28),cmap='Greys')"
   ]
  },
  {
   "cell_type": "markdown",
   "metadata": {},
   "source": [
    "# The Networks\n"
   ]
  },
  {
   "cell_type": "markdown",
   "metadata": {},
   "source": [
    "### Activation Function"
   ]
  },
  {
   "cell_type": "code",
   "execution_count": 5,
   "metadata": {},
   "outputs": [],
   "source": [
    "act_func = tf.nn.leaky_relu"
   ]
  },
  {
   "cell_type": "code",
   "execution_count": 6,
   "metadata": {},
   "outputs": [],
   "source": [
    "initializer = tf.variance_scaling_initializer()"
   ]
  },
  {
   "cell_type": "markdown",
   "metadata": {},
   "source": [
    "## The Generator"
   ]
  },
  {
   "cell_type": "code",
   "execution_count": 7,
   "metadata": {},
   "outputs": [],
   "source": [
    "def generator(z,reuse=None):\n",
    "    with tf.variable_scope('gen',reuse=reuse):\n",
    "        wg1 = tf.Variable(initializer([100, 128]), dtype=tf.float32)\n",
    "        bg1 = tf.Variable(tf.zeros(128))\n",
    "#         hidden1 = act_func(tf.matmul(z, wg1) + bg1)\n",
    "        hidden1 = tf.matmul(z, wg1) + bg1\n",
    "        # Leaky Relu\n",
    "        alpha = 0.01\n",
    "        hidden1 = tf.maximum(alpha*hidden1,hidden1)\n",
    "        wg2 = tf.Variable(initializer([128, 128]), dtype=tf.float32)\n",
    "        bg2 = tf.Variable(tf.zeros(128))\n",
    "#         hidden2 = act_func(tf.matmul(hidden1, wg2) + bg2)\n",
    "        hidden2 = tf.matmul(hidden1, wg2) + bg2\n",
    "        \n",
    "        hidden2 = tf.maximum(alpha*hidden2,hidden2)\n",
    "        wg3 = tf.Variable(initializer([128, 784]), dtype=tf.float32)\n",
    "        bg3 = tf.Variable(tf.zeros(784))\n",
    "#         output = tf.nn.tanh(tf.matmul(hidden2, wg3) + bg3)\n",
    "        output = tf.matmul(hidden2, wg3) + bg3\n",
    "#         output = tf.layers.dense(hidden2,units=784,activation=tf.nn.tanh)\n",
    "        return output\n",
    "    "
   ]
  },
  {
   "cell_type": "markdown",
   "metadata": {},
   "source": [
    "## The Discriminator"
   ]
  },
  {
   "cell_type": "code",
   "execution_count": 8,
   "metadata": {},
   "outputs": [],
   "source": [
    "def discriminator(X,reuse=None):\n",
    "    with tf.variable_scope('dis',reuse=reuse):\n",
    "        wd1 = tf.Variable(initializer([784, 128]), dtype=tf.float32)\n",
    "        bd1 = tf.Variable(tf.zeros(128))\n",
    "#         hidden1 = act_func(tf.matmul(X, wd1) + bd1)\n",
    "        hidden1 = tf.matmul(X, wd1) + bd1\n",
    "        \n",
    "        # Leaky Relu\n",
    "        alpha = 0.01\n",
    "        hidden1 = tf.maximum(alpha*hidden1,hidden1)\n",
    "        wd2 = tf.Variable(initializer([128, 128]), dtype=tf.float32)\n",
    "        bd2 = tf.Variable(tf.zeros(128))\n",
    "#         hidden2 = act_func(tf.matmul(hidden1, wd2) + bd2)\n",
    "        hidden2 = tf.matmul(hidden1, wd2) + bd2\n",
    "        \n",
    "        hidden2 = tf.maximum(alpha*hidden2,hidden2)\n",
    "        wd3 = tf.Variable(initializer([128, 1]), dtype=tf.float32)\n",
    "        bd3 = tf.Variable(tf.zeros(1))\n",
    "        logits = tf.matmul(hidden2, wd3) + bd3\n",
    "        output = tf.sigmoid(logits)\n",
    "        \n",
    "        \n",
    "        return output, logits"
   ]
  },
  {
   "cell_type": "markdown",
   "metadata": {},
   "source": [
    "### Placeholders"
   ]
  },
  {
   "cell_type": "code",
   "execution_count": 9,
   "metadata": {},
   "outputs": [],
   "source": [
    "real_images = tf.placeholder(tf.float32,shape=[None,784])\n",
    "z = tf.placeholder(tf.float32,shape=[None,100])"
   ]
  },
  {
   "cell_type": "markdown",
   "metadata": {},
   "source": [
    "### Generator"
   ]
  },
  {
   "cell_type": "code",
   "execution_count": 10,
   "metadata": {},
   "outputs": [],
   "source": [
    "G = generator(z)"
   ]
  },
  {
   "cell_type": "markdown",
   "metadata": {},
   "source": [
    "### Discriminator "
   ]
  },
  {
   "cell_type": "code",
   "execution_count": 11,
   "metadata": {},
   "outputs": [],
   "source": [
    "D_output_real , D_logits_real = discriminator(real_images)"
   ]
  },
  {
   "cell_type": "code",
   "execution_count": 12,
   "metadata": {},
   "outputs": [],
   "source": [
    "D_output_fake, D_logits_fake = discriminator(G,reuse=True)"
   ]
  },
  {
   "cell_type": "markdown",
   "metadata": {},
   "source": [
    "### Losses"
   ]
  },
  {
   "cell_type": "code",
   "execution_count": 13,
   "metadata": {},
   "outputs": [],
   "source": [
    "def loss_func(logits_in,labels_in):\n",
    "    return tf.reduce_mean(tf.nn.sigmoid_cross_entropy_with_logits(logits=logits_in,labels=labels_in))"
   ]
  },
  {
   "cell_type": "code",
   "execution_count": 14,
   "metadata": {},
   "outputs": [],
   "source": [
    "D_real_loss = loss_func(D_logits_real,tf.ones_like(D_logits_real)* (0.9))"
   ]
  },
  {
   "cell_type": "code",
   "execution_count": 15,
   "metadata": {},
   "outputs": [],
   "source": [
    "D_fake_loss = loss_func(D_logits_fake,tf.zeros_like(D_logits_fake))"
   ]
  },
  {
   "cell_type": "code",
   "execution_count": 16,
   "metadata": {},
   "outputs": [],
   "source": [
    "D_loss = D_real_loss + D_fake_loss"
   ]
  },
  {
   "cell_type": "code",
   "execution_count": 17,
   "metadata": {},
   "outputs": [],
   "source": [
    "G_loss = loss_func(D_logits_fake,tf.ones_like(D_logits_fake))"
   ]
  },
  {
   "cell_type": "markdown",
   "metadata": {},
   "source": [
    "### Optimizers"
   ]
  },
  {
   "cell_type": "code",
   "execution_count": 18,
   "metadata": {},
   "outputs": [],
   "source": [
    "learning_rate = 0.001"
   ]
  },
  {
   "cell_type": "code",
   "execution_count": 19,
   "metadata": {},
   "outputs": [
    {
     "name": "stdout",
     "output_type": "stream",
     "text": [
      "['dis/Variable:0', 'dis/Variable_1:0', 'dis/Variable_2:0', 'dis/Variable_3:0', 'dis/Variable_4:0', 'dis/Variable_5:0', 'dis_1/Variable:0', 'dis_1/Variable_1:0', 'dis_1/Variable_2:0', 'dis_1/Variable_3:0', 'dis_1/Variable_4:0', 'dis_1/Variable_5:0']\n",
      "['gen/Variable:0', 'gen/Variable_1:0', 'gen/Variable_2:0', 'gen/Variable_3:0', 'gen/Variable_4:0', 'gen/Variable_5:0']\n"
     ]
    }
   ],
   "source": [
    "tvars = tf.trainable_variables()\n",
    "\n",
    "d_vars = [var for var in tvars if 'dis' in var.name]\n",
    "g_vars = [var for var in tvars if 'gen' in var.name]\n",
    "\n",
    "print([v.name for v in d_vars])\n",
    "print([v.name for v in g_vars])"
   ]
  },
  {
   "cell_type": "code",
   "execution_count": 20,
   "metadata": {},
   "outputs": [],
   "source": [
    "D_trainer = tf.train.AdamOptimizer(learning_rate).minimize(D_loss, var_list=d_vars)\n",
    "G_trainer = tf.train.AdamOptimizer(learning_rate).minimize(G_loss, var_list=g_vars)"
   ]
  },
  {
   "cell_type": "markdown",
   "metadata": {},
   "source": [
    "## Training Session"
   ]
  },
  {
   "cell_type": "code",
   "execution_count": 21,
   "metadata": {},
   "outputs": [],
   "source": [
    "batch_size = 100\n",
    "epochs = 20\n",
    "init = tf.global_variables_initializer()\n",
    "saver = tf.train.Saver(var_list=g_vars)"
   ]
  },
  {
   "cell_type": "code",
   "execution_count": 22,
   "metadata": {},
   "outputs": [],
   "source": [
    "# Save a sample per epoch\n",
    "samples = []"
   ]
  },
  {
   "cell_type": "code",
   "execution_count": 23,
   "metadata": {},
   "outputs": [
    {
     "name": "stdout",
     "output_type": "stream",
     "text": [
      "Currently on Epoch 1 of 20 total...\n",
      "d_l : 0.3779376447200775 g_l: 7.777933120727539\n",
      "Currently on Epoch 2 of 20 total...\n",
      "d_l : 1.0597972869873047 g_l: 9.45663833618164\n",
      "Currently on Epoch 3 of 20 total...\n",
      "d_l : 0.33696475625038147 g_l: 10.005206108093262\n",
      "Currently on Epoch 4 of 20 total...\n",
      "d_l : 0.3274150788784027 g_l: 11.850384712219238\n",
      "Currently on Epoch 5 of 20 total...\n",
      "d_l : 0.32653576135635376 g_l: 11.68542766571045\n",
      "Currently on Epoch 6 of 20 total...\n",
      "d_l : 0.32667359709739685 g_l: 11.831984519958496\n",
      "Currently on Epoch 7 of 20 total...\n",
      "d_l : 0.3260534107685089 g_l: 12.116098403930664\n",
      "Currently on Epoch 8 of 20 total...\n",
      "d_l : 0.3257454037666321 g_l: 12.43101692199707\n",
      "Currently on Epoch 9 of 20 total...\n",
      "d_l : 0.32565146684646606 g_l: 12.653266906738281\n",
      "Currently on Epoch 10 of 20 total...\n",
      "d_l : 0.3253895044326782 g_l: 12.529288291931152\n",
      "Currently on Epoch 11 of 20 total...\n",
      "d_l : 0.32531723380088806 g_l: 14.298015594482422\n",
      "Currently on Epoch 12 of 20 total...\n",
      "d_l : 0.325259268283844 g_l: 14.669001579284668\n",
      "Currently on Epoch 13 of 20 total...\n",
      "d_l : 0.32546138763427734 g_l: 14.628735542297363\n",
      "Currently on Epoch 14 of 20 total...\n",
      "d_l : 0.32515841722488403 g_l: 15.530831336975098\n",
      "Currently on Epoch 15 of 20 total...\n",
      "d_l : 0.32896068692207336 g_l: 15.459970474243164\n",
      "Currently on Epoch 16 of 20 total...\n",
      "d_l : 0.32616978883743286 g_l: 15.296796798706055\n",
      "Currently on Epoch 17 of 20 total...\n",
      "d_l : 10.701428413391113 g_l: 16.579442977905273\n",
      "Currently on Epoch 18 of 20 total...\n",
      "d_l : 0.32575616240501404 g_l: 17.448802947998047\n",
      "Currently on Epoch 19 of 20 total...\n",
      "d_l : 0.3255649507045746 g_l: 15.677446365356445\n",
      "Currently on Epoch 20 of 20 total...\n",
      "d_l : 0.3254009187221527 g_l: 18.23987579345703\n"
     ]
    }
   ],
   "source": [
    "with tf.Session() as sess:\n",
    "    \n",
    "    sess.run(init)\n",
    "    \n",
    "    # Recall an epoch is an entire run through the training data\n",
    "    for e in range(epochs):\n",
    "        # // indicates classic division\n",
    "        num_batches = train_examples.shape[0]//batch_size\n",
    "        \n",
    "        for i in range(num_batches):\n",
    "            \n",
    "            batch_images = train_examples[i*batch_size:(i+1)*batch_size]\n",
    "            batch_images = batch_images*2 - 1\n",
    "            \n",
    "            \n",
    "            # Z (random latent noise data for Generator)\n",
    "            # -1 to 1 because of tanh activation\n",
    "            batch_z = np.random.uniform(-1, 1, size=(batch_size, 100))\n",
    "            \n",
    "            # Run optimizers, no need to save outputs, we won't use them\n",
    "            _ = sess.run(D_trainer, feed_dict={real_images: batch_images, z: batch_z})\n",
    "            _ = sess.run(G_trainer, feed_dict={z: batch_z})\n",
    "        \n",
    "        d_l = sess.run(D_loss, feed_dict={real_images: batch_images, z: batch_z})\n",
    "        g_l = sess.run(G_loss, feed_dict={z: batch_z})\n",
    "        \n",
    "        print(\"Currently on Epoch {} of {} total...\\nd_l : {} g_l: {}\".format(e+1, epochs,d_l, g_l))\n",
    " \n",
    "        \n",
    "        # Sample from generator as we're training for viewing afterwards\n",
    "        sample_z = np.random.uniform(-1, 1, size=(1,100))\n",
    "        gen_sample = sess.run(G,\n",
    "                              feed_dict={z: sample_z})\n",
    "        \n",
    "        samples.append(gen_sample)\n"
   ]
  },
  {
   "cell_type": "code",
   "execution_count": 28,
   "metadata": {},
   "outputs": [
    {
     "data": {
      "text/plain": [
       "<matplotlib.image.AxesImage at 0x1357dd4be0>"
      ]
     },
     "execution_count": 28,
     "metadata": {},
     "output_type": "execute_result"
    },
    {
     "data": {
      "image/png": "[encoded data removed]",
      "text/plain": [
       "<Figure size 432x288 with 1 Axes>"
      ]
     },
     "metadata": {
      "needs_background": "light"
     },
     "output_type": "display_data"
    }
   ],
   "source": [
    "plt.imshow(samples[0].reshape(28,28))"
   ]
  },
  {
   "cell_type": "code",
   "execution_count": null,
   "metadata": {},
   "outputs": [],
   "source": []
  }
 ],
 "metadata": {
  "kernelspec": {
   "display_name": "Python 3",
   "language": "python",
   "name": "python3"
  },
  "language_info": {
   "codemirror_mode": {
    "name": "ipython",
    "version": 3
   },
   "file_extension": ".py",
   "mimetype": "text/x-python",
   "name": "python",
   "nbconvert_exporter": "python",
   "pygments_lexer": "ipython3",
   "version": "3.8.5"
  }
 },
 "nbformat": 4,
 "nbformat_minor": 2
}
