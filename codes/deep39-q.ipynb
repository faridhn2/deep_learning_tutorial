{
  "cells": [
    {
      "cell_type": "markdown",
      "metadata": {
        "id": "rhIGITsAhoM5"
      },
      "source": [
        "# Linear Autoencoder for PCA\n",
        "\n",
        "** Follow the bold instructions below to reduce a 30 dimensional data set for classification into a 2-dimensional dataset! Then use the color classes to see if you still kept the same level of class separation in the dimensionality reduction**"
      ]
    },
    {
      "cell_type": "markdown",
      "metadata": {
        "id": "PaALSsE7hoNI"
      },
      "source": [
        "## The Data\n",
        "\n",
        "** Import numpy, matplotlib, and pandas**"
      ]
    },
    {
      "cell_type": "code",
      "execution_count": null,
      "metadata": {
        "id": "4TMejafVhoNJ"
      },
      "outputs": [],
      "source": [
        "import numpy as np\n",
        "import pandas as pd\n",
        "import matplotlib.pyplot as plt\n",
        "%matplotlib inline"
      ]
    },
    {
      "cell_type": "markdown",
      "metadata": {
        "id": "XS5i7JIshoNL"
      },
      "source": [
        "** Use pandas to read in the csv file called anonymized_data.csv . It contains 500 rows and 30 columns of anonymized data along with 1 last column with a classification label, where the columns have been renamed to 4 letter codes.**"
      ]
    },
    {
      "cell_type": "code",
      "execution_count": null,
      "metadata": {
        "id": "fakFIlDHhoNL"
      },
      "outputs": [],
      "source": [
        "df = pd.read_csv('anonymized_data.csv')"
      ]
    },
    {
      "cell_type": "code",
      "execution_count": null,
      "metadata": {
        "id": "2RMwr8JqhoNM",
        "outputId": "c73b9e75-4b66-433f-a0eb-0fc0ec627e11"
      },
      "outputs": [
        {
          "data": {
            "text/html": [
              "<div>\n",
              "<style scoped>\n",
              "    .dataframe tbody tr th:only-of-type {\n",
              "        vertical-align: middle;\n",
              "    }\n",
              "\n",
              "    .dataframe tbody tr th {\n",
              "        vertical-align: top;\n",
              "    }\n",
              "\n",
              "    .dataframe thead th {\n",
              "        text-align: right;\n",
              "    }\n",
              "</style>\n",
              "<table border=\"1\" class=\"dataframe\">\n",
              "  <thead>\n",
              "    <tr style=\"text-align: right;\">\n",
              "      <th></th>\n",
              "      <th>EJWY</th>\n",
              "      <th>VALM</th>\n",
              "      <th>EGXO</th>\n",
              "      <th>HTGR</th>\n",
              "      <th>SKRF</th>\n",
              "      <th>NNSZ</th>\n",
              "      <th>NYLC</th>\n",
              "      <th>GWID</th>\n",
              "      <th>TVUT</th>\n",
              "      <th>CJHI</th>\n",
              "      <th>...</th>\n",
              "      <th>LKKS</th>\n",
              "      <th>UOBF</th>\n",
              "      <th>VBHE</th>\n",
              "      <th>FRWU</th>\n",
              "      <th>NDYZ</th>\n",
              "      <th>QSBO</th>\n",
              "      <th>JDUB</th>\n",
              "      <th>TEVK</th>\n",
              "      <th>EZTM</th>\n",
              "      <th>Label</th>\n",
              "    </tr>\n",
              "  </thead>\n",
              "  <tbody>\n",
              "    <tr>\n",
              "      <th>0</th>\n",
              "      <td>-2.032145</td>\n",
              "      <td>1.019576</td>\n",
              "      <td>-9.658715</td>\n",
              "      <td>-6.210495</td>\n",
              "      <td>3.156823</td>\n",
              "      <td>7.457850</td>\n",
              "      <td>-5.313357</td>\n",
              "      <td>8.508296</td>\n",
              "      <td>3.959194</td>\n",
              "      <td>-5.246654</td>\n",
              "      <td>...</td>\n",
              "      <td>-2.209663</td>\n",
              "      <td>-10.340123</td>\n",
              "      <td>-7.697555</td>\n",
              "      <td>-5.932752</td>\n",
              "      <td>10.872688</td>\n",
              "      <td>0.081321</td>\n",
              "      <td>1.276316</td>\n",
              "      <td>5.281225</td>\n",
              "      <td>-0.516447</td>\n",
              "      <td>0.0</td>\n",
              "    </tr>\n",
              "    <tr>\n",
              "      <th>1</th>\n",
              "      <td>8.306217</td>\n",
              "      <td>6.649376</td>\n",
              "      <td>-0.960333</td>\n",
              "      <td>-4.094799</td>\n",
              "      <td>8.738965</td>\n",
              "      <td>-3.458797</td>\n",
              "      <td>7.016800</td>\n",
              "      <td>6.692765</td>\n",
              "      <td>0.898264</td>\n",
              "      <td>9.337643</td>\n",
              "      <td>...</td>\n",
              "      <td>0.851793</td>\n",
              "      <td>-9.678324</td>\n",
              "      <td>-6.071795</td>\n",
              "      <td>1.428194</td>\n",
              "      <td>-8.082792</td>\n",
              "      <td>-0.557089</td>\n",
              "      <td>-7.817282</td>\n",
              "      <td>-8.686722</td>\n",
              "      <td>-6.953100</td>\n",
              "      <td>1.0</td>\n",
              "    </tr>\n",
              "    <tr>\n",
              "      <th>2</th>\n",
              "      <td>6.570842</td>\n",
              "      <td>6.985462</td>\n",
              "      <td>-1.842621</td>\n",
              "      <td>-1.569599</td>\n",
              "      <td>10.039339</td>\n",
              "      <td>-3.623026</td>\n",
              "      <td>8.957619</td>\n",
              "      <td>7.577283</td>\n",
              "      <td>1.541255</td>\n",
              "      <td>7.161509</td>\n",
              "      <td>...</td>\n",
              "      <td>1.376085</td>\n",
              "      <td>-8.971164</td>\n",
              "      <td>-5.302191</td>\n",
              "      <td>2.898965</td>\n",
              "      <td>-8.746597</td>\n",
              "      <td>-0.520888</td>\n",
              "      <td>-7.350999</td>\n",
              "      <td>-8.925501</td>\n",
              "      <td>-7.051179</td>\n",
              "      <td>1.0</td>\n",
              "    </tr>\n",
              "    <tr>\n",
              "      <th>3</th>\n",
              "      <td>-1.139972</td>\n",
              "      <td>0.579422</td>\n",
              "      <td>-9.526530</td>\n",
              "      <td>-5.744928</td>\n",
              "      <td>4.834355</td>\n",
              "      <td>5.907235</td>\n",
              "      <td>-4.804137</td>\n",
              "      <td>6.798810</td>\n",
              "      <td>5.403670</td>\n",
              "      <td>-7.642857</td>\n",
              "      <td>...</td>\n",
              "      <td>0.270571</td>\n",
              "      <td>-8.640988</td>\n",
              "      <td>-8.105419</td>\n",
              "      <td>-5.079015</td>\n",
              "      <td>9.351282</td>\n",
              "      <td>0.641759</td>\n",
              "      <td>1.898083</td>\n",
              "      <td>3.904671</td>\n",
              "      <td>1.453499</td>\n",
              "      <td>0.0</td>\n",
              "    </tr>\n",
              "    <tr>\n",
              "      <th>4</th>\n",
              "      <td>-1.738104</td>\n",
              "      <td>0.234729</td>\n",
              "      <td>-11.558768</td>\n",
              "      <td>-7.181332</td>\n",
              "      <td>4.189626</td>\n",
              "      <td>7.765274</td>\n",
              "      <td>-2.189083</td>\n",
              "      <td>7.239925</td>\n",
              "      <td>3.135602</td>\n",
              "      <td>-6.211390</td>\n",
              "      <td>...</td>\n",
              "      <td>-0.013973</td>\n",
              "      <td>-9.437110</td>\n",
              "      <td>-6.475267</td>\n",
              "      <td>-5.708377</td>\n",
              "      <td>9.623080</td>\n",
              "      <td>1.802899</td>\n",
              "      <td>1.903705</td>\n",
              "      <td>4.188442</td>\n",
              "      <td>1.522362</td>\n",
              "      <td>0.0</td>\n",
              "    </tr>\n",
              "  </tbody>\n",
              "</table>\n",
              "<p>5 rows × 31 columns</p>\n",
              "</div>"
            ],
            "text/plain": [
              "       EJWY      VALM       EGXO      HTGR       SKRF      NNSZ      NYLC  \\\n",
              "0 -2.032145  1.019576  -9.658715 -6.210495   3.156823  7.457850 -5.313357   \n",
              "1  8.306217  6.649376  -0.960333 -4.094799   8.738965 -3.458797  7.016800   \n",
              "2  6.570842  6.985462  -1.842621 -1.569599  10.039339 -3.623026  8.957619   \n",
              "3 -1.139972  0.579422  -9.526530 -5.744928   4.834355  5.907235 -4.804137   \n",
              "4 -1.738104  0.234729 -11.558768 -7.181332   4.189626  7.765274 -2.189083   \n",
              "\n",
              "       GWID      TVUT      CJHI  ...      LKKS       UOBF      VBHE      FRWU  \\\n",
              "0  8.508296  3.959194 -5.246654  ... -2.209663 -10.340123 -7.697555 -5.932752   \n",
              "1  6.692765  0.898264  9.337643  ...  0.851793  -9.678324 -6.071795  1.428194   \n",
              "2  7.577283  1.541255  7.161509  ...  1.376085  -8.971164 -5.302191  2.898965   \n",
              "3  6.798810  5.403670 -7.642857  ...  0.270571  -8.640988 -8.105419 -5.079015   \n",
              "4  7.239925  3.135602 -6.211390  ... -0.013973  -9.437110 -6.475267 -5.708377   \n",
              "\n",
              "        NDYZ      QSBO      JDUB      TEVK      EZTM  Label  \n",
              "0  10.872688  0.081321  1.276316  5.281225 -0.516447    0.0  \n",
              "1  -8.082792 -0.557089 -7.817282 -8.686722 -6.953100    1.0  \n",
              "2  -8.746597 -0.520888 -7.350999 -8.925501 -7.051179    1.0  \n",
              "3   9.351282  0.641759  1.898083  3.904671  1.453499    0.0  \n",
              "4   9.623080  1.802899  1.903705  4.188442  1.522362    0.0  \n",
              "\n",
              "[5 rows x 31 columns]"
            ]
          },
          "execution_count": 3,
          "metadata": {},
          "output_type": "execute_result"
        }
      ],
      "source": [
        "df.head()"
      ]
    },
    {
      "cell_type": "code",
      "execution_count": null,
      "metadata": {
        "id": "xbYyWU1phoNN",
        "outputId": "c3288ed7-87de-4a80-8a9d-4e33d2e59238"
      },
      "outputs": [
        {
          "name": "stdout",
          "output_type": "stream",
          "text": [
            "<class 'pandas.core.frame.DataFrame'>\n",
            "RangeIndex: 500 entries, 0 to 499\n",
            "Data columns (total 31 columns):\n",
            " #   Column  Non-Null Count  Dtype  \n",
            "---  ------  --------------  -----  \n",
            " 0   EJWY    500 non-null    float64\n",
            " 1   VALM    500 non-null    float64\n",
            " 2   EGXO    500 non-null    float64\n",
            " 3   HTGR    500 non-null    float64\n",
            " 4   SKRF    500 non-null    float64\n",
            " 5   NNSZ    500 non-null    float64\n",
            " 6   NYLC    500 non-null    float64\n",
            " 7   GWID    500 non-null    float64\n",
            " 8   TVUT    500 non-null    float64\n",
            " 9   CJHI    500 non-null    float64\n",
            " 10  NVFW    500 non-null    float64\n",
            " 11  VLBG    500 non-null    float64\n",
            " 12  IDIX    500 non-null    float64\n",
            " 13  UVHN    500 non-null    float64\n",
            " 14  IWOT    500 non-null    float64\n",
            " 15  LEMB    500 non-null    float64\n",
            " 16  QMYY    500 non-null    float64\n",
            " 17  XDGR    500 non-null    float64\n",
            " 18  ODZS    500 non-null    float64\n",
            " 19  LNJS    500 non-null    float64\n",
            " 20  WDRT    500 non-null    float64\n",
            " 21  LKKS    500 non-null    float64\n",
            " 22  UOBF    500 non-null    float64\n",
            " 23  VBHE    500 non-null    float64\n",
            " 24  FRWU    500 non-null    float64\n",
            " 25  NDYZ    500 non-null    float64\n",
            " 26  QSBO    500 non-null    float64\n",
            " 27  JDUB    500 non-null    float64\n",
            " 28  TEVK    500 non-null    float64\n",
            " 29  EZTM    500 non-null    float64\n",
            " 30  Label   500 non-null    float64\n",
            "dtypes: float64(31)\n",
            "memory usage: 121.2 KB\n"
          ]
        }
      ],
      "source": [
        "df.info()"
      ]
    },
    {
      "cell_type": "markdown",
      "metadata": {
        "id": "EzMcNt9ihoNO"
      },
      "source": [
        "## Scale the Data\n",
        "\n",
        "** Use scikit learn to scale the data with a MinMaxScaler. Remember not to scale the Label column, just the data. Save this scaled data as a new variable called scaled_data. **"
      ]
    },
    {
      "cell_type": "code",
      "execution_count": null,
      "metadata": {
        "id": "-mRk8SOChoNP"
      },
      "outputs": [],
      "source": [
        "from sklearn.preprocessing import MinMaxScaler"
      ]
    },
    {
      "cell_type": "code",
      "execution_count": null,
      "metadata": {
        "id": "9Yn8E6HphoNP"
      },
      "outputs": [],
      "source": [
        "#MinMaxScaler"
      ]
    },
    {
      "cell_type": "markdown",
      "metadata": {
        "id": "LHofbW4-hoNQ"
      },
      "source": [
        "# The Linear Autoencoder"
      ]
    },
    {
      "cell_type": "markdown",
      "metadata": {
        "id": "4WheUro3hoNQ"
      },
      "source": [
        "** Import tensorflow and import fully_connected layers from tensorflow.contrib.layers. **"
      ]
    },
    {
      "cell_type": "code",
      "execution_count": null,
      "metadata": {
        "id": "ttKgmfgRhoNR",
        "outputId": "d590a76e-3ffd-47ad-c4d4-70aae8c8e60a"
      },
      "outputs": [
        {
          "name": "stdout",
          "output_type": "stream",
          "text": [
            "WARNING:tensorflow:From C:\\Users\\Farid\\anaconda3-NEW\\lib\\site-packages\\tensorflow\\python\\compat\\v2_compat.py:101: disable_resource_variables (from tensorflow.python.ops.variable_scope) is deprecated and will be removed in a future version.\n",
            "Instructions for updating:\n",
            "non-resource variables are not supported in the long term\n"
          ]
        }
      ],
      "source": []
    },
    {
      "cell_type": "code",
      "execution_count": null,
      "metadata": {
        "id": "VI67BJQGhoNR"
      },
      "outputs": [],
      "source": [
        "num_inputs = 30  # 3 dimensional input\n",
        "num_hidden = 2  # 2 dimensional representation\n",
        "num_outputs = num_inputs # Must be true for an autoencoder!\n",
        "\n",
        "learning_rate = 0.01"
      ]
    },
    {
      "cell_type": "markdown",
      "metadata": {
        "id": "qALhJLnwhoNS"
      },
      "source": [
        "### Placeholder\n",
        "\n",
        "** Create a placeholder fot the data called X.**"
      ]
    },
    {
      "cell_type": "code",
      "execution_count": null,
      "metadata": {
        "id": "AtReTOl5hoNS"
      },
      "outputs": [],
      "source": [
        "# X"
      ]
    },
    {
      "cell_type": "markdown",
      "metadata": {
        "id": "v6HoG6UThoNS"
      },
      "source": [
        "### Layers\n"
      ]
    },
    {
      "cell_type": "code",
      "execution_count": null,
      "metadata": {
        "id": "cFn5EegrhoNS"
      },
      "outputs": [],
      "source": [
        "# b_hidden =\n",
        "\n",
        "# W_hidden ="
      ]
    },
    {
      "cell_type": "code",
      "execution_count": null,
      "metadata": {
        "id": "q04nxtaUhoNT"
      },
      "outputs": [],
      "source": [
        "\n",
        "# z_hidden ="
      ]
    },
    {
      "cell_type": "code",
      "execution_count": null,
      "metadata": {
        "id": "v3KjKDQ5hoNT"
      },
      "outputs": [],
      "source": [
        "# b_outputs =\n",
        "\n",
        "# W_outputs ="
      ]
    },
    {
      "cell_type": "code",
      "execution_count": null,
      "metadata": {
        "id": "rXtzXcMEhoNT"
      },
      "outputs": [],
      "source": [
        "\n",
        "# z_outputs ="
      ]
    },
    {
      "cell_type": "markdown",
      "metadata": {
        "id": "-kWlunmphoNU"
      },
      "source": [
        "### Loss Function\n",
        "\n",
        "** Create a Mean Squared Error loss function. **"
      ]
    },
    {
      "cell_type": "code",
      "execution_count": null,
      "metadata": {
        "id": "900dSmPkhoNU"
      },
      "outputs": [],
      "source": [
        "# loss =   # MSE"
      ]
    },
    {
      "cell_type": "markdown",
      "metadata": {
        "id": "bfPhVXcRhoNU"
      },
      "source": [
        "### Optimizer"
      ]
    },
    {
      "cell_type": "markdown",
      "metadata": {
        "id": "pBs6cDKJhoNV"
      },
      "source": [
        "** Create an AdamOptimizer designed to minimize the previous loss function. **"
      ]
    },
    {
      "cell_type": "code",
      "execution_count": null,
      "metadata": {
        "id": "2DZw4KpYhoNV"
      },
      "outputs": [],
      "source": [
        "# optimizer =\n",
        "# train  ="
      ]
    },
    {
      "cell_type": "markdown",
      "metadata": {
        "id": "z6BY0gOchoNV"
      },
      "source": [
        "### Init\n",
        "\n",
        "** Create an instance of a global variable intializer. **"
      ]
    },
    {
      "cell_type": "code",
      "execution_count": null,
      "metadata": {
        "id": "KR6VCZQ3hoNW"
      },
      "outputs": [],
      "source": [
        "# init ="
      ]
    },
    {
      "cell_type": "markdown",
      "metadata": {
        "id": "bDZ5uftjhoNW"
      },
      "source": [
        "## Running the Session\n",
        "\n",
        "** Now create a Tensorflow session that runs the optimizer for at least 1000 steps. (You can also use epochs if you prefer, where 1 epoch is defined by one single run through the entire dataset. **"
      ]
    },
    {
      "cell_type": "code",
      "execution_count": null,
      "metadata": {
        "id": "4NjDKqCthoNW"
      },
      "outputs": [],
      "source": [
        "num_steps = 1000\n",
        "\n",
        "with tf.Session() as sess:\n",
        "    pass\n",
        "    # to do"
      ]
    },
    {
      "cell_type": "markdown",
      "metadata": {
        "id": "xXSlLX64hoNW"
      },
      "source": [
        "** Now create a session that runs the scaled data through the hidden layer. (You could have also done this in the last step after all the training steps. **"
      ]
    },
    {
      "cell_type": "code",
      "execution_count": null,
      "metadata": {
        "id": "92Ur-6NphoNX"
      },
      "outputs": [],
      "source": [
        "with tf.Session() as sess:\n",
        "\n",
        "\n",
        "    # Now ask for the hidden layer output (the 2 dimensional output)\n",
        "    pass\n",
        "    # to do"
      ]
    },
    {
      "cell_type": "markdown",
      "metadata": {
        "id": "ryJwo54DhoNX"
      },
      "source": [
        "** Confirm that your output is now 2 dimensional along the previous axis of 30 features. **"
      ]
    },
    {
      "cell_type": "code",
      "execution_count": null,
      "metadata": {
        "id": "QD7XpFo0hoNX",
        "outputId": "c833acd9-6c6b-41d3-fc61-eed67203f54f"
      },
      "outputs": [
        {
          "data": {
            "text/plain": [
              "(500, 2)"
            ]
          },
          "execution_count": 19,
          "metadata": {},
          "output_type": "execute_result"
        }
      ],
      "source": [
        "output_2d.shape"
      ]
    },
    {
      "cell_type": "markdown",
      "metadata": {
        "id": "xU7YOUiuhoNY"
      },
      "source": [
        "** Now plot out the reduced dimensional representation of the data. Do you still have clear separation of classes even with the reduction in dimensions? Hint: You definitely should, the classes should still be clearly seperable, even when reduced to 2 dimensions. **"
      ]
    },
    {
      "cell_type": "code",
      "execution_count": null,
      "metadata": {
        "id": "Nf_-ywmEhoNY",
        "outputId": "ebf67531-8063-4f95-cd28-427cd26b742b"
      },
      "outputs": [
        {
          "data": {
            "text/plain": [
              "<matplotlib.collections.PathCollection at 0x73c6cc28b0>"
            ]
          },
          "execution_count": 20,
          "metadata": {},
          "output_type": "execute_result"
        },
        {
          "data": {
            "image/png": "[encoded data removed]",
            "text/plain": [
              "<Figure size 432x288 with 1 Axes>"
            ]
          },
          "metadata": {
            "needs_background": "light"
          },
          "output_type": "display_data"
        }
      ],
      "source": [
        "plt.scatter(output_2d[:,0],output_2d[:,1],c=df['Label'])"
      ]
    },
    {
      "cell_type": "code",
      "execution_count": null,
      "metadata": {
        "id": "b-Z3dSEKhoNY"
      },
      "outputs": [],
      "source": []
    }
  ],
  "metadata": {
    "kernelspec": {
      "display_name": "Python 3",
      "language": "python",
      "name": "python3"
    },
    "language_info": {
      "codemirror_mode": {
        "name": "ipython",
        "version": 3
      },
      "file_extension": ".py",
      "mimetype": "text/x-python",
      "name": "python",
      "nbconvert_exporter": "python",
      "pygments_lexer": "ipython3",
      "version": "3.8.5"
    },
    "colab": {
      "provenance": []
    }
  },
  "nbformat": 4,
  "nbformat_minor": 0
}