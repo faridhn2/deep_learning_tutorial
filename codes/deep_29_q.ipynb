{
  "cells": [
    {
      "cell_type": "markdown",
      "metadata": {
        "id": "SGg6S6CNOHsG"
      },
      "source": [
        "# Time Series Exercise - Solutions\n",
        "\n"
      ]
    },
    {
      "cell_type": "markdown",
      "metadata": {
        "id": "I1mKkvDEOHsK"
      },
      "source": [
        "** Import numpy pandas and matplotlib **"
      ]
    },
    {
      "cell_type": "code",
      "execution_count": null,
      "metadata": {
        "id": "iHuFdY-SOHsL"
      },
      "outputs": [],
      "source": [
        "import numpy as np\n",
        "import pandas as pd\n",
        "\n",
        "import matplotlib.pyplot as plt\n",
        "%matplotlib inline"
      ]
    },
    {
      "cell_type": "markdown",
      "metadata": {
        "id": "VX7p96TuOHsN"
      },
      "source": [
        "** Use pandas to read the csv of the monthly-milk-production.csv file and set index_col='Month' **"
      ]
    },
    {
      "cell_type": "code",
      "execution_count": null,
      "metadata": {
        "id": "_f3ukVv9OHsN"
      },
      "outputs": [],
      "source": [
        "milk = pd.read_csv('monthly-milk-production.csv',\n",
        "                   index_col='Month')"
      ]
    },
    {
      "cell_type": "markdown",
      "metadata": {
        "id": "QpeT0rQJOHsN"
      },
      "source": [
        "** Check out the head of the dataframe**"
      ]
    },
    {
      "cell_type": "code",
      "execution_count": null,
      "metadata": {
        "id": "__yv_cVgOHsO",
        "outputId": "4c3ad73e-7dbf-468b-f253-7648c1fedc25"
      },
      "outputs": [
        {
          "data": {
            "text/html": [
              "<div>\n",
              "<style scoped>\n",
              "    .dataframe tbody tr th:only-of-type {\n",
              "        vertical-align: middle;\n",
              "    }\n",
              "\n",
              "    .dataframe tbody tr th {\n",
              "        vertical-align: top;\n",
              "    }\n",
              "\n",
              "    .dataframe thead th {\n",
              "        text-align: right;\n",
              "    }\n",
              "</style>\n",
              "<table border=\"1\" class=\"dataframe\">\n",
              "  <thead>\n",
              "    <tr style=\"text-align: right;\">\n",
              "      <th></th>\n",
              "      <th>Milk Production</th>\n",
              "    </tr>\n",
              "    <tr>\n",
              "      <th>Month</th>\n",
              "      <th></th>\n",
              "    </tr>\n",
              "  </thead>\n",
              "  <tbody>\n",
              "    <tr>\n",
              "      <th>1962-01-01 01:00:00</th>\n",
              "      <td>589.0</td>\n",
              "    </tr>\n",
              "    <tr>\n",
              "      <th>1962-02-01 01:00:00</th>\n",
              "      <td>561.0</td>\n",
              "    </tr>\n",
              "    <tr>\n",
              "      <th>1962-03-01 01:00:00</th>\n",
              "      <td>640.0</td>\n",
              "    </tr>\n",
              "    <tr>\n",
              "      <th>1962-04-01 01:00:00</th>\n",
              "      <td>656.0</td>\n",
              "    </tr>\n",
              "    <tr>\n",
              "      <th>1962-05-01 01:00:00</th>\n",
              "      <td>727.0</td>\n",
              "    </tr>\n",
              "  </tbody>\n",
              "</table>\n",
              "</div>"
            ],
            "text/plain": [
              "                     Milk Production\n",
              "Month                               \n",
              "1962-01-01 01:00:00            589.0\n",
              "1962-02-01 01:00:00            561.0\n",
              "1962-03-01 01:00:00            640.0\n",
              "1962-04-01 01:00:00            656.0\n",
              "1962-05-01 01:00:00            727.0"
            ]
          },
          "execution_count": 3,
          "metadata": {},
          "output_type": "execute_result"
        }
      ],
      "source": [
        "milk.head()"
      ]
    },
    {
      "cell_type": "markdown",
      "metadata": {
        "id": "U6bYgP1MOHsP"
      },
      "source": [
        "** Make the index a time series by using: **\n",
        "\n",
        "    milk.index = pd.to_datetime(milk.index)"
      ]
    },
    {
      "cell_type": "code",
      "execution_count": null,
      "metadata": {
        "id": "Dg6nt8kGOHsQ"
      },
      "outputs": [],
      "source": [
        "milk.index = pd.to_datetime(milk.index)"
      ]
    },
    {
      "cell_type": "markdown",
      "metadata": {
        "id": "yi_eeM8JOHsQ"
      },
      "source": [
        "** Plot out the time series data. **"
      ]
    },
    {
      "cell_type": "code",
      "execution_count": null,
      "metadata": {
        "id": "Hxd06dplOHsR",
        "outputId": "0279117a-33ec-4bdd-fbba-ba3f72c56635"
      },
      "outputs": [
        {
          "data": {
            "text/plain": [
              "<AxesSubplot:xlabel='Month'>"
            ]
          },
          "execution_count": 5,
          "metadata": {},
          "output_type": "execute_result"
        },
        {
          "data": {
            "image/png": "[encoded data removed]",
            "text/plain": [
              "<Figure size 432x288 with 1 Axes>"
            ]
          },
          "metadata": {
            "needs_background": "light"
          },
          "output_type": "display_data"
        }
      ],
      "source": [
        "milk.plot()"
      ]
    },
    {
      "cell_type": "markdown",
      "metadata": {
        "id": "pztSLF_EOHsS"
      },
      "source": [
        "___"
      ]
    },
    {
      "cell_type": "markdown",
      "metadata": {
        "id": "HFsKYnmUOHsS"
      },
      "source": [
        "### Train Test Split\n",
        "\n",
        "** Let's attempt to predict a year's worth of data. (12 months or 12 steps into the future) **\n",
        "\n",
        "** Create a test train split using indexing (hint: use .head() or tail() or .iloc[]). We don't want a random train test split, we want to specify that the test set is the last 3 months of data is the test set, with everything before it is the training. **"
      ]
    },
    {
      "cell_type": "code",
      "execution_count": null,
      "metadata": {
        "id": "n8hw6kPKOHsT",
        "outputId": "05fc77de-befb-45ca-87b4-51c82aab0b49"
      },
      "outputs": [
        {
          "name": "stdout",
          "output_type": "stream",
          "text": [
            "<class 'pandas.core.frame.DataFrame'>\n",
            "DatetimeIndex: 168 entries, 1962-01-01 01:00:00 to 1975-12-01 01:00:00\n",
            "Data columns (total 1 columns):\n",
            " #   Column           Non-Null Count  Dtype  \n",
            "---  ------           --------------  -----  \n",
            " 0   Milk Production  168 non-null    float64\n",
            "dtypes: float64(1)\n",
            "memory usage: 2.6 KB\n"
          ]
        }
      ],
      "source": [
        "milk.info()"
      ]
    },
    {
      "cell_type": "code",
      "execution_count": null,
      "metadata": {
        "id": "4vljiJf3OHsU"
      },
      "outputs": [],
      "source": [
        "train_set = milk.head(168-num_time_steps)"
      ]
    },
    {
      "cell_type": "code",
      "execution_count": null,
      "metadata": {
        "id": "NACOdF9DOHsU"
      },
      "outputs": [],
      "source": [
        "test_set = milk.tail(num_time_steps)"
      ]
    },
    {
      "cell_type": "markdown",
      "metadata": {
        "id": "zzRskNlrOHsV"
      },
      "source": [
        "### Scale the Data\n",
        "\n",
        "** Use sklearn.preprocessing to scale the data using the MinMaxScaler. Remember to only fit_transform on the training data, then transform the test data. You shouldn't fit on the test data as well, otherwise you are assuming you would know about future behavior!**"
      ]
    },
    {
      "cell_type": "code",
      "execution_count": null,
      "metadata": {
        "id": "mxpSFpEqOHsW"
      },
      "outputs": [],
      "source": [
        "from sklearn.preprocessing import MinMaxScaler"
      ]
    },
    {
      "cell_type": "code",
      "execution_count": null,
      "metadata": {
        "id": "_TPxP-apOHsW"
      },
      "outputs": [],
      "source": [
        "scaler = MinMaxScaler()"
      ]
    },
    {
      "cell_type": "code",
      "execution_count": null,
      "metadata": {
        "id": "bH4S1neEOHsX"
      },
      "outputs": [],
      "source": [
        "train_scaled = scaler.fit_transform(train_set)"
      ]
    },
    {
      "cell_type": "code",
      "execution_count": null,
      "metadata": {
        "id": "aqIbNyeLOHsX"
      },
      "outputs": [],
      "source": [
        "test_scaled = scaler.transform(test_set)"
      ]
    },
    {
      "cell_type": "markdown",
      "metadata": {
        "id": "jPG5AIgOOHsX"
      },
      "source": [
        "## Batch Function\n",
        "\n",
        "** We'll need a function that can feed batches of the training data. We'll need to do several things that are listed out as steps in the comments of the function. Remember to reference the previous batch method from the lecture for hints. Try to fill out the function template below, this is a pretty hard step, so feel free to reference the solutions! **"
      ]
    },
    {
      "cell_type": "code",
      "execution_count": null,
      "metadata": {
        "id": "JrS7MVTiOHsY"
      },
      "outputs": [],
      "source": [
        "def next_batch(training_data,batch_size,steps):\n",
        "    \"\"\"\n",
        "    INPUT: Data, Batch Size, Time Steps per batch\n",
        "    OUTPUT: A tuple of y time series results. y[:,:-1] and y[:,1:]\n",
        "    \"\"\"\n",
        "\n",
        "    # STEP 1: Use np.random.randint to set a random starting point index for the batch.\n",
        "    # Remember that each batch needs have the same number of steps in it.\n",
        "    # This means you should limit the starting point to len(data)-steps\n",
        "\n",
        "    # STEP 2: Now that you have a starting index you'll need to index the data from\n",
        "    # the random start to random start + steps. Then reshape this data to be (1,steps)\n",
        "\n",
        "    # STEP 3: Return the batches. You'll have two batches to return y[:,:-1] and y[:,1:]\n",
        "    # You'll need to reshape these into tensors for the RNN. Depending on your indexing it\n",
        "    # will be either .reshape(-1,steps-1,1) or .reshape(-1,steps,1)"
      ]
    },
    {
      "cell_type": "code",
      "execution_count": null,
      "metadata": {
        "id": "90wEg8YYOHsY"
      },
      "outputs": [],
      "source": [
        "def next_batch(training_data,batch_size,steps):\n",
        "\n",
        "\n",
        "    # Grab a random starting point for each batch\n",
        "    rand_start = np.random.randint(0,len(training_data)-steps)\n",
        "\n",
        "    # Create Y data for time series in the batches\n",
        "    y_batch = np.array(\n",
        "        training_data[rand_start:rand_start+steps+1]).reshape(1,steps+1)\n",
        "\n",
        "    return y_batch[:, :-1].reshape(\n",
        "        -1, steps, 1), y_batch[:, 1:].reshape(\n",
        "        -1, steps, 1)"
      ]
    },
    {
      "cell_type": "markdown",
      "metadata": {
        "id": "8T61Zy-yOHsY"
      },
      "source": [
        "## Setting Up The RNN Model"
      ]
    },
    {
      "cell_type": "markdown",
      "metadata": {
        "id": "UMhZlUPpOHsZ"
      },
      "source": [
        "** Import TensorFlow **"
      ]
    },
    {
      "cell_type": "code",
      "execution_count": null,
      "metadata": {
        "id": "AUwLjfFNOHsZ",
        "outputId": "865ab215-e6f2-4382-9aef-0f724792086d"
      },
      "outputs": [
        {
          "name": "stdout",
          "output_type": "stream",
          "text": [
            "WARNING:tensorflow:From C:\\Users\\Farid\\anaconda3-NEW\\lib\\site-packages\\tensorflow\\python\\compat\\v2_compat.py:101: disable_resource_variables (from tensorflow.python.ops.variable_scope) is deprecated and will be removed in a future version.\n",
            "Instructions for updating:\n",
            "non-resource variables are not supported in the long term\n"
          ]
        }
      ],
      "source": [
        "import tensorflow.compat.v1 as tf\n",
        "tf.disable_v2_behavior()"
      ]
    },
    {
      "cell_type": "markdown",
      "metadata": {
        "id": "8a9FoVRtOHsZ"
      },
      "source": [
        "### The Constants\n",
        "\n",
        "** Define the constants in a single cell. You'll need the following (in parenthesis are the values I used in my solution, but you can play with some of these): **\n",
        "* Number of Inputs (1)\n",
        "* Number of Time Steps (30)\n",
        "* Number of Neurons per Layer (100)\n",
        "* Number of Outputs (1)\n",
        "* Learning Rate (0.03)\n",
        "* Number of Iterations for Training (5000)\n",
        "* Batch Size (20)"
      ]
    },
    {
      "cell_type": "code",
      "execution_count": null,
      "metadata": {
        "id": "S-SqcZkuOHsZ"
      },
      "outputs": [],
      "source": [
        "# Just one feature, the time series\n",
        "num_inputs = 1\n",
        "# Num of steps in each batch\n",
        "num_time_steps = 30\n",
        "# 100 neuron layer, play with this\n",
        "num_neurons = 100\n",
        "# Just one output, predicted time series\n",
        "num_outputs = 1\n",
        "\n",
        "## You can also try increasing iterations, but decreasing learning rate\n",
        "# learning rate you can play with this\n",
        "learning_rate = 0.03\n",
        "# how many iterations to go through (training steps), you can play with this\n",
        "num_train_iterations = 5000\n",
        "# Size of the batch of data\n",
        "batch_size = 20"
      ]
    },
    {
      "cell_type": "markdown",
      "metadata": {
        "id": "VH3nelFqOHsa"
      },
      "source": [
        "** Create Placeholders for X and y. (You can change the variable names if you want). The shape for these placeholders should be [None,num_time_steps-1,num_inputs] and [None, num_time_steps-1, num_outputs] The reason we use num_time_steps-1 is because each of these will be one step shorter than the original time steps size, because we are training the RNN network to predict one point into the future based on the input sequence.**  "
      ]
    },
    {
      "cell_type": "code",
      "execution_count": null,
      "metadata": {
        "id": "oBtAs5lIOHsa"
      },
      "outputs": [],
      "source": []
    },
    {
      "cell_type": "markdown",
      "metadata": {
        "id": "KYp_38v3OHsa"
      },
      "source": [
        "** Now create the RNN Layer, you have complete freedom over this, use tf.contrib.rnn and choose anything you want, OutputProjectionWrappers, BasicRNNCells, BasicLSTMCells, MultiRNNCell, GRUCell etc... Keep in mind not every combination will work well! (If in doubt, the solutions used an Outputprojection Wrapper around a basic LSTM cell with relu activation.**"
      ]
    },
    {
      "cell_type": "code",
      "execution_count": null,
      "metadata": {
        "id": "FOTNMaM7OHsb"
      },
      "outputs": [],
      "source": [
        "# RNN"
      ]
    },
    {
      "cell_type": "code",
      "execution_count": null,
      "metadata": {
        "id": "YKF54TDQOHsb",
        "outputId": "e497b1e8-ac65-48c5-8107-080161df3620"
      },
      "outputs": [
        {
          "name": "stdout",
          "output_type": "stream",
          "text": [
            "WARNING:tensorflow:`tf.nn.rnn_cell.MultiRNNCell` is deprecated. This class is equivalent as `tf.keras.layers.StackedRNNCells`, and will be replaced by that in Tensorflow 2.0.\n"
          ]
        },
        {
          "name": "stderr",
          "output_type": "stream",
          "text": [
            "C:\\Users\\Farid\\anaconda3-NEW\\lib\\site-packages\\keras\\layers\\legacy_rnn\\rnn_cell_impl.py:901: UserWarning: `tf.nn.rnn_cell.LSTMCell` is deprecated and will be removed in a future version. This class is equivalent as `tf.keras.layers.LSTMCell`, and will be replaced by that in Tensorflow 2.0.\n",
            "  warnings.warn(\"`tf.nn.rnn_cell.LSTMCell` is deprecated and will be \"\n"
          ]
        }
      ],
      "source": [
        "#LSTM"
      ]
    },
    {
      "cell_type": "markdown",
      "metadata": {
        "id": "l1loHXTpOHsb"
      },
      "source": [
        "** Now pass in the cells variable into tf.nn.dynamic_rnn, along with your first placeholder (X)**"
      ]
    },
    {
      "cell_type": "code",
      "execution_count": null,
      "metadata": {
        "id": "VLSY13G0OHsb",
        "outputId": "bd6e1578-3d10-4439-c887-d05dbecc8321"
      },
      "outputs": [
        {
          "name": "stdout",
          "output_type": "stream",
          "text": [
            "WARNING:tensorflow:From <ipython-input-21-9c3212b14c5a>:1: dynamic_rnn (from tensorflow.python.ops.rnn) is deprecated and will be removed in a future version.\n",
            "Instructions for updating:\n",
            "Please use `keras.layers.RNN(cell)`, which is equivalent to this API\n",
            "WARNING:tensorflow:From C:\\Users\\Farid\\anaconda3-NEW\\lib\\site-packages\\keras\\layers\\legacy_rnn\\rnn_cell_impl.py:979: calling Zeros.__init__ (from tensorflow.python.ops.init_ops) with dtype is deprecated and will be removed in a future version.\n",
            "Instructions for updating:\n",
            "Call initializer instance with the dtype argument instead of passing it to the constructor\n"
          ]
        },
        {
          "name": "stderr",
          "output_type": "stream",
          "text": [
            "C:\\Users\\Farid\\anaconda3-NEW\\lib\\site-packages\\keras\\engine\\base_layer_v1.py:1684: UserWarning: `layer.add_variable` is deprecated and will be removed in a future version. Please use `layer.add_weight` method instead.\n",
            "  warnings.warn('`layer.add_variable` is deprecated and '\n"
          ]
        }
      ],
      "source": [
        "# outputs, states ="
      ]
    },
    {
      "cell_type": "markdown",
      "metadata": {
        "id": "5kzQ1SBJOHsb"
      },
      "source": [
        "### Loss Function and Optimizer\n",
        "\n",
        "** Create a Mean Squared Error Loss Function and use it to minimize an AdamOptimizer, remember to pass in your learning rate. **"
      ]
    },
    {
      "cell_type": "code",
      "execution_count": null,
      "metadata": {
        "id": "K0CbpUmWOHsc"
      },
      "outputs": [],
      "source": [
        "# loss =  # MSE\n",
        "# optimizer\n",
        "# train = optimizer.minimize(loss)"
      ]
    },
    {
      "cell_type": "markdown",
      "metadata": {
        "id": "TIvPQrnVOHsc"
      },
      "source": [
        "** Initialize the global variables **"
      ]
    },
    {
      "cell_type": "code",
      "execution_count": null,
      "metadata": {
        "id": "YhvXFnJ_OHso"
      },
      "outputs": [],
      "source": [
        "init = tf.global_variables_initializer()"
      ]
    },
    {
      "cell_type": "markdown",
      "metadata": {
        "id": "Fwv4UtUrOHso"
      },
      "source": [
        "** Create an instance of tf.train.Saver() **"
      ]
    },
    {
      "cell_type": "code",
      "execution_count": null,
      "metadata": {
        "id": "zs1TM5mhOHso"
      },
      "outputs": [],
      "source": [
        "saver = tf.train.Saver()"
      ]
    },
    {
      "cell_type": "markdown",
      "metadata": {
        "id": "8JkSy38lOHsp"
      },
      "source": [
        "### Session\n",
        "\n",
        "** Run a tf.Session that trains on the batches created by your next_batch function. Also add an a loss evaluation for every 100 training iterations. Remember to save your model after you are done training. **"
      ]
    },
    {
      "cell_type": "code",
      "execution_count": null,
      "metadata": {
        "id": "OhrpQRaBOHsp",
        "outputId": "909e43d5-9ad3-41e5-ce44-f4983f182267"
      },
      "outputs": [
        {
          "name": "stdout",
          "output_type": "stream",
          "text": [
            "0 \tMSE: 0.09389772\n",
            "100 \tMSE: 0.085011035\n",
            "200 \tMSE: 0.15364257\n",
            "300 \tMSE: 0.27087426\n",
            "400 \tMSE: 0.12796336\n",
            "500 \tMSE: 0.123085745\n",
            "600 \tMSE: 0.23848757\n",
            "700 \tMSE: 0.16343766\n",
            "800 \tMSE: 0.10579586\n",
            "900 \tMSE: 0.0974456\n",
            "1000 \tMSE: 0.08708251\n",
            "1100 \tMSE: 0.097063825\n",
            "1200 \tMSE: 0.15371497\n",
            "1300 \tMSE: 0.11512084\n",
            "1400 \tMSE: 0.14913619\n",
            "1500 \tMSE: 0.100579835\n",
            "1600 \tMSE: 0.11527793\n",
            "1700 \tMSE: 0.22655231\n",
            "1800 \tMSE: 0.16229045\n",
            "1900 \tMSE: 0.10832037\n",
            "2000 \tMSE: 0.16718899\n",
            "2100 \tMSE: 0.10449525\n",
            "2200 \tMSE: 0.12005256\n",
            "2300 \tMSE: 0.17467147\n",
            "2400 \tMSE: 0.10417198\n",
            "2500 \tMSE: 0.1487207\n",
            "2600 \tMSE: 0.10996258\n",
            "2700 \tMSE: 0.1574358\n",
            "2800 \tMSE: 0.31740797\n",
            "2900 \tMSE: 0.22412854\n",
            "3000 \tMSE: 0.10918573\n",
            "3100 \tMSE: 0.13921107\n",
            "3200 \tMSE: 0.306899\n",
            "3300 \tMSE: 0.29146802\n",
            "3400 \tMSE: 0.12540157\n",
            "3500 \tMSE: 0.1152809\n",
            "3600 \tMSE: 0.11260482\n",
            "3700 \tMSE: 0.09771\n",
            "3800 \tMSE: 0.27687025\n",
            "3900 \tMSE: 0.118315026\n",
            "4000 \tMSE: 0.18295799\n",
            "4100 \tMSE: 0.10633994\n",
            "4200 \tMSE: 0.11222101\n",
            "4300 \tMSE: 0.3182539\n",
            "4400 \tMSE: 0.12142253\n",
            "4500 \tMSE: 0.2738735\n",
            "4600 \tMSE: 0.29382724\n",
            "4700 \tMSE: 0.14507343\n",
            "4800 \tMSE: 0.31889373\n",
            "4900 \tMSE: 0.23067187\n",
            "4999 \tMSE: 0.14875008\n"
          ]
        }
      ],
      "source": [
        "with tf.Session as sess:\n",
        "    sess.run(init)\n",
        "\n",
        "    for iteration in range(num_train_iterations):\n",
        "\n",
        "        pass"
      ]
    },
    {
      "cell_type": "markdown",
      "metadata": {
        "id": "Xi3JcdfWOHsq"
      },
      "source": [
        "______"
      ]
    },
    {
      "cell_type": "markdown",
      "metadata": {
        "id": "UtwWF3TKOHsq"
      },
      "source": [
        "## Predicting Future (Test Data)"
      ]
    },
    {
      "cell_type": "markdown",
      "metadata": {
        "id": "BYbHM9uSOHsq"
      },
      "source": [
        "** Show the test_set (the last 12 months of your original complete data set) **"
      ]
    },
    {
      "cell_type": "code",
      "execution_count": null,
      "metadata": {
        "id": "dVTCcXPHOHsq",
        "outputId": "8b2a6b4c-084f-4a02-dcd5-b9dab4596323"
      },
      "outputs": [
        {
          "data": {
            "text/html": [
              "<div>\n",
              "<style scoped>\n",
              "    .dataframe tbody tr th:only-of-type {\n",
              "        vertical-align: middle;\n",
              "    }\n",
              "\n",
              "    .dataframe tbody tr th {\n",
              "        vertical-align: top;\n",
              "    }\n",
              "\n",
              "    .dataframe thead th {\n",
              "        text-align: right;\n",
              "    }\n",
              "</style>\n",
              "<table border=\"1\" class=\"dataframe\">\n",
              "  <thead>\n",
              "    <tr style=\"text-align: right;\">\n",
              "      <th></th>\n",
              "      <th>Milk Production</th>\n",
              "    </tr>\n",
              "    <tr>\n",
              "      <th>Month</th>\n",
              "      <th></th>\n",
              "    </tr>\n",
              "  </thead>\n",
              "  <tbody>\n",
              "    <tr>\n",
              "      <th>1973-07-01 01:00:00</th>\n",
              "      <td>881.0</td>\n",
              "    </tr>\n",
              "    <tr>\n",
              "      <th>1973-08-01 01:00:00</th>\n",
              "      <td>837.0</td>\n",
              "    </tr>\n",
              "    <tr>\n",
              "      <th>1973-09-01 01:00:00</th>\n",
              "      <td>784.0</td>\n",
              "    </tr>\n",
              "    <tr>\n",
              "      <th>1973-10-01 01:00:00</th>\n",
              "      <td>791.0</td>\n",
              "    </tr>\n",
              "    <tr>\n",
              "      <th>1973-11-01 01:00:00</th>\n",
              "      <td>760.0</td>\n",
              "    </tr>\n",
              "    <tr>\n",
              "      <th>1973-12-01 01:00:00</th>\n",
              "      <td>802.0</td>\n",
              "    </tr>\n",
              "    <tr>\n",
              "      <th>1974-01-01 01:00:00</th>\n",
              "      <td>828.0</td>\n",
              "    </tr>\n",
              "    <tr>\n",
              "      <th>1974-02-01 01:00:00</th>\n",
              "      <td>778.0</td>\n",
              "    </tr>\n",
              "    <tr>\n",
              "      <th>1974-03-01 01:00:00</th>\n",
              "      <td>889.0</td>\n",
              "    </tr>\n",
              "    <tr>\n",
              "      <th>1974-04-01 01:00:00</th>\n",
              "      <td>902.0</td>\n",
              "    </tr>\n",
              "    <tr>\n",
              "      <th>1974-05-01 01:00:00</th>\n",
              "      <td>969.0</td>\n",
              "    </tr>\n",
              "    <tr>\n",
              "      <th>1974-06-01 01:00:00</th>\n",
              "      <td>947.0</td>\n",
              "    </tr>\n",
              "    <tr>\n",
              "      <th>1974-07-01 01:00:00</th>\n",
              "      <td>908.0</td>\n",
              "    </tr>\n",
              "    <tr>\n",
              "      <th>1974-08-01 01:00:00</th>\n",
              "      <td>867.0</td>\n",
              "    </tr>\n",
              "    <tr>\n",
              "      <th>1974-09-01 01:00:00</th>\n",
              "      <td>815.0</td>\n",
              "    </tr>\n",
              "    <tr>\n",
              "      <th>1974-10-01 01:00:00</th>\n",
              "      <td>812.0</td>\n",
              "    </tr>\n",
              "    <tr>\n",
              "      <th>1974-11-01 01:00:00</th>\n",
              "      <td>773.0</td>\n",
              "    </tr>\n",
              "    <tr>\n",
              "      <th>1974-12-01 01:00:00</th>\n",
              "      <td>813.0</td>\n",
              "    </tr>\n",
              "    <tr>\n",
              "      <th>1975-01-01 01:00:00</th>\n",
              "      <td>834.0</td>\n",
              "    </tr>\n",
              "    <tr>\n",
              "      <th>1975-02-01 01:00:00</th>\n",
              "      <td>782.0</td>\n",
              "    </tr>\n",
              "    <tr>\n",
              "      <th>1975-03-01 01:00:00</th>\n",
              "      <td>892.0</td>\n",
              "    </tr>\n",
              "    <tr>\n",
              "      <th>1975-04-01 01:00:00</th>\n",
              "      <td>903.0</td>\n",
              "    </tr>\n",
              "    <tr>\n",
              "      <th>1975-05-01 01:00:00</th>\n",
              "      <td>966.0</td>\n",
              "    </tr>\n",
              "    <tr>\n",
              "      <th>1975-06-01 01:00:00</th>\n",
              "      <td>937.0</td>\n",
              "    </tr>\n",
              "    <tr>\n",
              "      <th>1975-07-01 01:00:00</th>\n",
              "      <td>896.0</td>\n",
              "    </tr>\n",
              "    <tr>\n",
              "      <th>1975-08-01 01:00:00</th>\n",
              "      <td>858.0</td>\n",
              "    </tr>\n",
              "    <tr>\n",
              "      <th>1975-09-01 01:00:00</th>\n",
              "      <td>817.0</td>\n",
              "    </tr>\n",
              "    <tr>\n",
              "      <th>1975-10-01 01:00:00</th>\n",
              "      <td>827.0</td>\n",
              "    </tr>\n",
              "    <tr>\n",
              "      <th>1975-11-01 01:00:00</th>\n",
              "      <td>797.0</td>\n",
              "    </tr>\n",
              "    <tr>\n",
              "      <th>1975-12-01 01:00:00</th>\n",
              "      <td>843.0</td>\n",
              "    </tr>\n",
              "  </tbody>\n",
              "</table>\n",
              "</div>"
            ],
            "text/plain": [
              "                     Milk Production\n",
              "Month                               \n",
              "1973-07-01 01:00:00            881.0\n",
              "1973-08-01 01:00:00            837.0\n",
              "1973-09-01 01:00:00            784.0\n",
              "1973-10-01 01:00:00            791.0\n",
              "1973-11-01 01:00:00            760.0\n",
              "1973-12-01 01:00:00            802.0\n",
              "1974-01-01 01:00:00            828.0\n",
              "1974-02-01 01:00:00            778.0\n",
              "1974-03-01 01:00:00            889.0\n",
              "1974-04-01 01:00:00            902.0\n",
              "1974-05-01 01:00:00            969.0\n",
              "1974-06-01 01:00:00            947.0\n",
              "1974-07-01 01:00:00            908.0\n",
              "1974-08-01 01:00:00            867.0\n",
              "1974-09-01 01:00:00            815.0\n",
              "1974-10-01 01:00:00            812.0\n",
              "1974-11-01 01:00:00            773.0\n",
              "1974-12-01 01:00:00            813.0\n",
              "1975-01-01 01:00:00            834.0\n",
              "1975-02-01 01:00:00            782.0\n",
              "1975-03-01 01:00:00            892.0\n",
              "1975-04-01 01:00:00            903.0\n",
              "1975-05-01 01:00:00            966.0\n",
              "1975-06-01 01:00:00            937.0\n",
              "1975-07-01 01:00:00            896.0\n",
              "1975-08-01 01:00:00            858.0\n",
              "1975-09-01 01:00:00            817.0\n",
              "1975-10-01 01:00:00            827.0\n",
              "1975-11-01 01:00:00            797.0\n",
              "1975-12-01 01:00:00            843.0"
            ]
          },
          "execution_count": 43,
          "metadata": {},
          "output_type": "execute_result"
        }
      ],
      "source": [
        "test_set"
      ]
    },
    {
      "cell_type": "code",
      "execution_count": null,
      "metadata": {
        "id": "qZ2xj4uJOHsr",
        "outputId": "040e2bf3-1a99-4129-a353-7f959966a507"
      },
      "outputs": [
        {
          "name": "stdout",
          "output_type": "stream",
          "text": [
            "INFO:tensorflow:Restoring parameters from ./ex_time_series_model\n"
          ]
        },
        {
          "name": "stderr",
          "output_type": "stream",
          "text": [
            "<ipython-input-59-cb9ca89c2f6d>:12: VisibleDeprecationWarning: Creating an ndarray from ragged nested sequences (which is a list-or-tuple of lists-or-tuples-or ndarrays with different lengths or shapes) is deprecated. If you meant to do this, you must specify 'dtype=object' when creating the ndarray\n",
            "  X_batch = np.array(train_seed[-num_time_steps:]).reshape(1, num_time_steps, 1)\n"
          ]
        }
      ],
      "source": [
        "with tf.Session() as sess:\n",
        "\n",
        "    # Use your Saver instance to restore your saved rnn time series model\n",
        "    # saver.restore(sess, \"\")\n",
        "\n",
        ""
      ]
    },
    {
      "cell_type": "code",
      "execution_count": null,
      "metadata": {
        "id": "sL-4uvxFOHsr",
        "outputId": "03bb0d08-4fa5-49b8-fdc3-3ed7f5ad3db1"
      },
      "outputs": [
        {
          "data": {
            "text/plain": [
              "0.6314576"
            ]
          },
          "execution_count": 58,
          "metadata": {},
          "output_type": "execute_result"
        }
      ],
      "source": [
        "y_pred[0, 0, 0]"
      ]
    },
    {
      "cell_type": "markdown",
      "metadata": {
        "id": "HrPN4FXFOHsr"
      },
      "source": [
        "** Show the result of the predictions. **"
      ]
    },
    {
      "cell_type": "code",
      "execution_count": null,
      "metadata": {
        "id": "REHBHksDOHss",
        "outputId": "32b59182-3efd-4bf9-c361-40de8d4195bf"
      },
      "outputs": [
        {
          "data": {
            "text/plain": [
              "[array([0.81971154]),\n",
              " array([0.72596154]),\n",
              " array([0.61538462]),\n",
              " array([0.61778846]),\n",
              " array([0.51201923]),\n",
              " array([0.60576923]),\n",
              " array([0.64423077]),\n",
              " array([0.52884615]),\n",
              " array([0.79326923]),\n",
              " array([0.82932692]),\n",
              " array([0.97115385]),\n",
              " array([0.89182692]),\n",
              " array([0.78846154]),\n",
              " array([0.68269231]),\n",
              " array([0.55528846]),\n",
              " array([0.57211538]),\n",
              " array([0.49759615]),\n",
              " array([0.59855769]),\n",
              " array([0.66105769]),\n",
              " array([0.54086538]),\n",
              " array([0.80769231]),\n",
              " array([0.83894231]),\n",
              " array([1.]),\n",
              " array([0.94711538]),\n",
              " array([0.85336538]),\n",
              " array([0.75480769]),\n",
              " array([0.62980769]),\n",
              " array([0.62259615]),\n",
              " array([0.52884615]),\n",
              " array([0.625]),\n",
              " 0.7615935,\n",
              " 0.7615939,\n",
              " 0.7615939,\n",
              " 0.7615939,\n",
              " 0.7615937,\n",
              " 0.7615938,\n",
              " 0.7615939,\n",
              " 0.7615938,\n",
              " 0.7615936,\n",
              " 0.76159346,\n",
              " 0.7615932,\n",
              " 0.7615932,\n",
              " 0.76159364,\n",
              " 0.7615939,\n",
              " 0.7615938,\n",
              " 0.7615938,\n",
              " 0.7615937,\n",
              " 0.7615939,\n",
              " 0.7615939,\n",
              " 0.76159376,\n",
              " 0.7615935,\n",
              " 0.7615934,\n",
              " 0.76159316,\n",
              " 0.7615933,\n",
              " 0.76159334,\n",
              " 0.7615938,\n",
              " 0.7615939,\n",
              " 0.7615939,\n",
              " 0.7615937,\n",
              " 0.7615939]"
            ]
          },
          "execution_count": 32,
          "metadata": {},
          "output_type": "execute_result"
        }
      ],
      "source": [
        "train_seed"
      ]
    },
    {
      "cell_type": "markdown",
      "metadata": {
        "id": "5228HmxrOHss"
      },
      "source": [
        "** Grab the portion of the results that are the generated values and apply inverse_transform on them to turn them back into milk production value units (lbs per cow). Also reshape the results to be (12,1) so we can easily add them to the test_set dataframe.**"
      ]
    },
    {
      "cell_type": "code",
      "execution_count": null,
      "metadata": {
        "id": "-yarWG4jOHss"
      },
      "outputs": [],
      "source": [
        "# results = scaler.inverse_transform\n",
        ""
      ]
    },
    {
      "cell_type": "markdown",
      "metadata": {
        "id": "BzHzX28cOHsw"
      },
      "source": [
        "** Create a new column on the test_set called \"Generated\" and set it equal to the generated results. You may get a warning about this, feel free to ignore it.**"
      ]
    },
    {
      "cell_type": "code",
      "execution_count": null,
      "metadata": {
        "id": "KDvS7moWOHsw",
        "outputId": "13762344-e07f-4a7a-f82c-5751e4922c31"
      },
      "outputs": [
        {
          "name": "stderr",
          "output_type": "stream",
          "text": [
            "<ipython-input-64-27957d04ddb5>:1: SettingWithCopyWarning: \n",
            "A value is trying to be set on a copy of a slice from a DataFrame.\n",
            "Try using .loc[row_indexer,col_indexer] = value instead\n",
            "\n",
            "See the caveats in the documentation: https://pandas.pydata.org/pandas-docs/stable/user_guide/indexing.html#returning-a-view-versus-a-copy\n",
            "  test_set['Generated'] = results\n"
          ]
        }
      ],
      "source": [
        "test_set['Generated'] = results"
      ]
    },
    {
      "cell_type": "markdown",
      "metadata": {
        "id": "kcFMVY0aOHtE"
      },
      "source": [
        "** View the test_set dataframe. **"
      ]
    },
    {
      "cell_type": "code",
      "execution_count": null,
      "metadata": {
        "id": "4LhiEp5WOHtJ",
        "outputId": "8dd8adf3-500b-42d1-cc54-0780c4cc497a"
      },
      "outputs": [
        {
          "data": {
            "text/html": [
              "<div>\n",
              "<style scoped>\n",
              "    .dataframe tbody tr th:only-of-type {\n",
              "        vertical-align: middle;\n",
              "    }\n",
              "\n",
              "    .dataframe tbody tr th {\n",
              "        vertical-align: top;\n",
              "    }\n",
              "\n",
              "    .dataframe thead th {\n",
              "        text-align: right;\n",
              "    }\n",
              "</style>\n",
              "<table border=\"1\" class=\"dataframe\">\n",
              "  <thead>\n",
              "    <tr style=\"text-align: right;\">\n",
              "      <th></th>\n",
              "      <th>Milk Production</th>\n",
              "      <th>Generated</th>\n",
              "    </tr>\n",
              "    <tr>\n",
              "      <th>Month</th>\n",
              "      <th></th>\n",
              "      <th></th>\n",
              "    </tr>\n",
              "  </thead>\n",
              "  <tbody>\n",
              "    <tr>\n",
              "      <th>1973-07-01 01:00:00</th>\n",
              "      <td>881.0</td>\n",
              "      <td>830.877197</td>\n",
              "    </tr>\n",
              "    <tr>\n",
              "      <th>1973-08-01 01:00:00</th>\n",
              "      <td>837.0</td>\n",
              "      <td>824.845581</td>\n",
              "    </tr>\n",
              "    <tr>\n",
              "      <th>1973-09-01 01:00:00</th>\n",
              "      <td>784.0</td>\n",
              "      <td>814.674744</td>\n",
              "    </tr>\n",
              "    <tr>\n",
              "      <th>1973-10-01 01:00:00</th>\n",
              "      <td>791.0</td>\n",
              "      <td>814.929749</td>\n",
              "    </tr>\n",
              "    <tr>\n",
              "      <th>1973-11-01 01:00:00</th>\n",
              "      <td>760.0</td>\n",
              "      <td>802.513184</td>\n",
              "    </tr>\n",
              "    <tr>\n",
              "      <th>1973-12-01 01:00:00</th>\n",
              "      <td>802.0</td>\n",
              "      <td>813.641357</td>\n",
              "    </tr>\n",
              "    <tr>\n",
              "      <th>1974-01-01 01:00:00</th>\n",
              "      <td>828.0</td>\n",
              "      <td>817.641479</td>\n",
              "    </tr>\n",
              "    <tr>\n",
              "      <th>1974-02-01 01:00:00</th>\n",
              "      <td>778.0</td>\n",
              "      <td>804.650024</td>\n",
              "    </tr>\n",
              "    <tr>\n",
              "      <th>1974-03-01 01:00:00</th>\n",
              "      <td>889.0</td>\n",
              "      <td>829.400085</td>\n",
              "    </tr>\n",
              "    <tr>\n",
              "      <th>1974-04-01 01:00:00</th>\n",
              "      <td>902.0</td>\n",
              "      <td>831.375000</td>\n",
              "    </tr>\n",
              "    <tr>\n",
              "      <th>1974-05-01 01:00:00</th>\n",
              "      <td>969.0</td>\n",
              "      <td>836.810730</td>\n",
              "    </tr>\n",
              "    <tr>\n",
              "      <th>1974-06-01 01:00:00</th>\n",
              "      <td>947.0</td>\n",
              "      <td>834.162964</td>\n",
              "    </tr>\n",
              "    <tr>\n",
              "      <th>1974-07-01 01:00:00</th>\n",
              "      <td>908.0</td>\n",
              "      <td>829.113708</td>\n",
              "    </tr>\n",
              "    <tr>\n",
              "      <th>1974-08-01 01:00:00</th>\n",
              "      <td>867.0</td>\n",
              "      <td>821.261719</td>\n",
              "    </tr>\n",
              "    <tr>\n",
              "      <th>1974-09-01 01:00:00</th>\n",
              "      <td>815.0</td>\n",
              "      <td>807.881653</td>\n",
              "    </tr>\n",
              "    <tr>\n",
              "      <th>1974-10-01 01:00:00</th>\n",
              "      <td>812.0</td>\n",
              "      <td>809.861694</td>\n",
              "    </tr>\n",
              "    <tr>\n",
              "      <th>1974-11-01 01:00:00</th>\n",
              "      <td>773.0</td>\n",
              "      <td>800.626099</td>\n",
              "    </tr>\n",
              "    <tr>\n",
              "      <th>1974-12-01 01:00:00</th>\n",
              "      <td>813.0</td>\n",
              "      <td>812.852356</td>\n",
              "    </tr>\n",
              "    <tr>\n",
              "      <th>1975-01-01 01:00:00</th>\n",
              "      <td>834.0</td>\n",
              "      <td>819.274292</td>\n",
              "    </tr>\n",
              "    <tr>\n",
              "      <th>1975-02-01 01:00:00</th>\n",
              "      <td>782.0</td>\n",
              "      <td>806.137329</td>\n",
              "    </tr>\n",
              "    <tr>\n",
              "      <th>1975-03-01 01:00:00</th>\n",
              "      <td>892.0</td>\n",
              "      <td>830.225891</td>\n",
              "    </tr>\n",
              "    <tr>\n",
              "      <th>1975-04-01 01:00:00</th>\n",
              "      <td>903.0</td>\n",
              "      <td>831.853088</td>\n",
              "    </tr>\n",
              "    <tr>\n",
              "      <th>1975-05-01 01:00:00</th>\n",
              "      <td>966.0</td>\n",
              "      <td>837.588806</td>\n",
              "    </tr>\n",
              "    <tr>\n",
              "      <th>1975-06-01 01:00:00</th>\n",
              "      <td>937.0</td>\n",
              "      <td>836.094421</td>\n",
              "    </tr>\n",
              "    <tr>\n",
              "      <th>1975-07-01 01:00:00</th>\n",
              "      <td>896.0</td>\n",
              "      <td>832.534912</td>\n",
              "    </tr>\n",
              "    <tr>\n",
              "      <th>1975-08-01 01:00:00</th>\n",
              "      <td>858.0</td>\n",
              "      <td>826.944946</td>\n",
              "    </tr>\n",
              "    <tr>\n",
              "      <th>1975-09-01 01:00:00</th>\n",
              "      <td>817.0</td>\n",
              "      <td>816.183899</td>\n",
              "    </tr>\n",
              "    <tr>\n",
              "      <th>1975-10-01 01:00:00</th>\n",
              "      <td>827.0</td>\n",
              "      <td>815.435669</td>\n",
              "    </tr>\n",
              "    <tr>\n",
              "      <th>1975-11-01 01:00:00</th>\n",
              "      <td>797.0</td>\n",
              "      <td>804.650024</td>\n",
              "    </tr>\n",
              "    <tr>\n",
              "      <th>1975-12-01 01:00:00</th>\n",
              "      <td>843.0</td>\n",
              "      <td>815.686401</td>\n",
              "    </tr>\n",
              "  </tbody>\n",
              "</table>\n",
              "</div>"
            ],
            "text/plain": [
              "                     Milk Production   Generated\n",
              "Month                                           \n",
              "1973-07-01 01:00:00            881.0  830.877197\n",
              "1973-08-01 01:00:00            837.0  824.845581\n",
              "1973-09-01 01:00:00            784.0  814.674744\n",
              "1973-10-01 01:00:00            791.0  814.929749\n",
              "1973-11-01 01:00:00            760.0  802.513184\n",
              "1973-12-01 01:00:00            802.0  813.641357\n",
              "1974-01-01 01:00:00            828.0  817.641479\n",
              "1974-02-01 01:00:00            778.0  804.650024\n",
              "1974-03-01 01:00:00            889.0  829.400085\n",
              "1974-04-01 01:00:00            902.0  831.375000\n",
              "1974-05-01 01:00:00            969.0  836.810730\n",
              "1974-06-01 01:00:00            947.0  834.162964\n",
              "1974-07-01 01:00:00            908.0  829.113708\n",
              "1974-08-01 01:00:00            867.0  821.261719\n",
              "1974-09-01 01:00:00            815.0  807.881653\n",
              "1974-10-01 01:00:00            812.0  809.861694\n",
              "1974-11-01 01:00:00            773.0  800.626099\n",
              "1974-12-01 01:00:00            813.0  812.852356\n",
              "1975-01-01 01:00:00            834.0  819.274292\n",
              "1975-02-01 01:00:00            782.0  806.137329\n",
              "1975-03-01 01:00:00            892.0  830.225891\n",
              "1975-04-01 01:00:00            903.0  831.853088\n",
              "1975-05-01 01:00:00            966.0  837.588806\n",
              "1975-06-01 01:00:00            937.0  836.094421\n",
              "1975-07-01 01:00:00            896.0  832.534912\n",
              "1975-08-01 01:00:00            858.0  826.944946\n",
              "1975-09-01 01:00:00            817.0  816.183899\n",
              "1975-10-01 01:00:00            827.0  815.435669\n",
              "1975-11-01 01:00:00            797.0  804.650024\n",
              "1975-12-01 01:00:00            843.0  815.686401"
            ]
          },
          "execution_count": 62,
          "metadata": {},
          "output_type": "execute_result"
        }
      ],
      "source": [
        "test_set"
      ]
    },
    {
      "cell_type": "markdown",
      "metadata": {
        "id": "157yqSjGOHtK"
      },
      "source": [
        "** Plot out the two columns for comparison. **"
      ]
    },
    {
      "cell_type": "code",
      "execution_count": null,
      "metadata": {
        "id": "clomKWp6OHtL",
        "outputId": "d584469a-c993-43ee-d6f6-794169b6a4f1"
      },
      "outputs": [
        {
          "data": {
            "text/plain": [
              "<AxesSubplot:xlabel='Month'>"
            ]
          },
          "execution_count": 63,
          "metadata": {},
          "output_type": "execute_result"
        },
        {
          "data": {
            "image/png": "[encoded data removed]",
            "text/plain": [
              "<Figure size 432x288 with 1 Axes>"
            ]
          },
          "metadata": {
            "needs_background": "light"
          },
          "output_type": "display_data"
        }
      ],
      "source": [
        "test_set.plot()"
      ]
    },
    {
      "cell_type": "code",
      "execution_count": null,
      "metadata": {
        "id": "bOxNxFB9OHtL"
      },
      "outputs": [],
      "source": []
    }
  ],
  "metadata": {
    "kernelspec": {
      "display_name": "Python 3",
      "language": "python",
      "name": "python3"
    },
    "language_info": {
      "codemirror_mode": {
        "name": "ipython",
        "version": 3
      },
      "file_extension": ".py",
      "mimetype": "text/x-python",
      "name": "python",
      "nbconvert_exporter": "python",
      "pygments_lexer": "ipython3",
      "version": "3.8.5"
    },
    "colab": {
      "provenance": []
    }
  },
  "nbformat": 4,
  "nbformat_minor": 0
}