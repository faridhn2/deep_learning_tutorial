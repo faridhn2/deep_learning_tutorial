{
  "cells": [
    {
      "cell_type": "markdown",
      "metadata": {
        "id": "EcHkKgcaq5re"
      },
      "source": [
        "# Regression Exercise - Solutions\n",
        "\n",
        "California Housing Data\n",
        "\n",
        "This data set contains information about all the block groups in California from the 1990 Census. In this sample a block group on average includes 1425.5 individuals living in a geographically compact area.\n",
        "\n",
        "The task is to aproximate the median house value of each block from the values of the rest of the variables.\n",
        "\n",
        " It has been obtained from the LIACC repository. The original page where the data set can be found is: http://www.liaad.up.pt/~ltorgo/Regression/DataSets.html.\n",
        ""
      ]
    },
    {
      "cell_type": "markdown",
      "metadata": {
        "collapsed": true,
        "id": "laCPiGwwq5ri"
      },
      "source": [
        "The Features:\n",
        "\n",
        "* housingMedianAge: continuous.\n",
        "* totalRooms: continuous.\n",
        "* totalBedrooms: continuous.\n",
        "* population: continuous.\n",
        "* households: continuous.\n",
        "* medianIncome: continuous.\n",
        "* medianHouseValue: continuous."
      ]
    },
    {
      "cell_type": "markdown",
      "metadata": {
        "id": "WlT5DfvBq5rj"
      },
      "source": [
        "## The Data"
      ]
    },
    {
      "cell_type": "markdown",
      "metadata": {
        "id": "ISIj_7Gtq5rj"
      },
      "source": [
        "** Import the cal_housing.csv file with pandas. Separate it into a training (70%) and testing set(30%).**"
      ]
    },
    {
      "cell_type": "code",
      "execution_count": null,
      "metadata": {
        "id": "gBRhzNIOq5rk"
      },
      "outputs": [],
      "source": [
        "import pandas as pd"
      ]
    },
    {
      "cell_type": "code",
      "execution_count": null,
      "metadata": {
        "id": "KbzM7TgTq5rl"
      },
      "outputs": [],
      "source": [
        "housing = pd.read_csv('cal_housing_clean.csv')"
      ]
    },
    {
      "cell_type": "code",
      "execution_count": null,
      "metadata": {
        "id": "VRh5HnGHq5rm",
        "outputId": "15e5ef26-3f65-41f3-feae-bd106f40276f"
      },
      "outputs": [
        {
          "data": {
            "text/html": [
              "<div>\n",
              "<style scoped>\n",
              "    .dataframe tbody tr th:only-of-type {\n",
              "        vertical-align: middle;\n",
              "    }\n",
              "\n",
              "    .dataframe tbody tr th {\n",
              "        vertical-align: top;\n",
              "    }\n",
              "\n",
              "    .dataframe thead th {\n",
              "        text-align: right;\n",
              "    }\n",
              "</style>\n",
              "<table border=\"1\" class=\"dataframe\">\n",
              "  <thead>\n",
              "    <tr style=\"text-align: right;\">\n",
              "      <th></th>\n",
              "      <th>housingMedianAge</th>\n",
              "      <th>totalRooms</th>\n",
              "      <th>totalBedrooms</th>\n",
              "      <th>population</th>\n",
              "      <th>households</th>\n",
              "      <th>medianIncome</th>\n",
              "      <th>medianHouseValue</th>\n",
              "    </tr>\n",
              "  </thead>\n",
              "  <tbody>\n",
              "    <tr>\n",
              "      <th>0</th>\n",
              "      <td>41.0</td>\n",
              "      <td>880.0</td>\n",
              "      <td>129.0</td>\n",
              "      <td>322.0</td>\n",
              "      <td>126.0</td>\n",
              "      <td>8.3252</td>\n",
              "      <td>452600.0</td>\n",
              "    </tr>\n",
              "    <tr>\n",
              "      <th>1</th>\n",
              "      <td>21.0</td>\n",
              "      <td>7099.0</td>\n",
              "      <td>1106.0</td>\n",
              "      <td>2401.0</td>\n",
              "      <td>1138.0</td>\n",
              "      <td>8.3014</td>\n",
              "      <td>358500.0</td>\n",
              "    </tr>\n",
              "    <tr>\n",
              "      <th>2</th>\n",
              "      <td>52.0</td>\n",
              "      <td>1467.0</td>\n",
              "      <td>190.0</td>\n",
              "      <td>496.0</td>\n",
              "      <td>177.0</td>\n",
              "      <td>7.2574</td>\n",
              "      <td>352100.0</td>\n",
              "    </tr>\n",
              "    <tr>\n",
              "      <th>3</th>\n",
              "      <td>52.0</td>\n",
              "      <td>1274.0</td>\n",
              "      <td>235.0</td>\n",
              "      <td>558.0</td>\n",
              "      <td>219.0</td>\n",
              "      <td>5.6431</td>\n",
              "      <td>341300.0</td>\n",
              "    </tr>\n",
              "    <tr>\n",
              "      <th>4</th>\n",
              "      <td>52.0</td>\n",
              "      <td>1627.0</td>\n",
              "      <td>280.0</td>\n",
              "      <td>565.0</td>\n",
              "      <td>259.0</td>\n",
              "      <td>3.8462</td>\n",
              "      <td>342200.0</td>\n",
              "    </tr>\n",
              "  </tbody>\n",
              "</table>\n",
              "</div>"
            ],
            "text/plain": [
              "   housingMedianAge  totalRooms  totalBedrooms  population  households  \\\n",
              "0              41.0       880.0          129.0       322.0       126.0   \n",
              "1              21.0      7099.0         1106.0      2401.0      1138.0   \n",
              "2              52.0      1467.0          190.0       496.0       177.0   \n",
              "3              52.0      1274.0          235.0       558.0       219.0   \n",
              "4              52.0      1627.0          280.0       565.0       259.0   \n",
              "\n",
              "   medianIncome  medianHouseValue  \n",
              "0        8.3252          452600.0  \n",
              "1        8.3014          358500.0  \n",
              "2        7.2574          352100.0  \n",
              "3        5.6431          341300.0  \n",
              "4        3.8462          342200.0  "
            ]
          },
          "execution_count": 4,
          "metadata": {},
          "output_type": "execute_result"
        }
      ],
      "source": []
    },
    {
      "cell_type": "code",
      "execution_count": null,
      "metadata": {
        "id": "B3vbSNhdq5rn",
        "outputId": "551f57db-d832-42c0-a80d-2d84d69e5e72"
      },
      "outputs": [
        {
          "data": {
            "text/html": [
              "<div>\n",
              "<style scoped>\n",
              "    .dataframe tbody tr th:only-of-type {\n",
              "        vertical-align: middle;\n",
              "    }\n",
              "\n",
              "    .dataframe tbody tr th {\n",
              "        vertical-align: top;\n",
              "    }\n",
              "\n",
              "    .dataframe thead th {\n",
              "        text-align: right;\n",
              "    }\n",
              "</style>\n",
              "<table border=\"1\" class=\"dataframe\">\n",
              "  <thead>\n",
              "    <tr style=\"text-align: right;\">\n",
              "      <th></th>\n",
              "      <th>count</th>\n",
              "      <th>mean</th>\n",
              "      <th>std</th>\n",
              "      <th>min</th>\n",
              "      <th>25%</th>\n",
              "      <th>50%</th>\n",
              "      <th>75%</th>\n",
              "      <th>max</th>\n",
              "    </tr>\n",
              "  </thead>\n",
              "  <tbody>\n",
              "    <tr>\n",
              "      <th>housingMedianAge</th>\n",
              "      <td>20640.0</td>\n",
              "      <td>28.639486</td>\n",
              "      <td>12.585558</td>\n",
              "      <td>1.0000</td>\n",
              "      <td>18.0000</td>\n",
              "      <td>29.0000</td>\n",
              "      <td>37.00000</td>\n",
              "      <td>52.0000</td>\n",
              "    </tr>\n",
              "    <tr>\n",
              "      <th>totalRooms</th>\n",
              "      <td>20640.0</td>\n",
              "      <td>2635.763081</td>\n",
              "      <td>2181.615252</td>\n",
              "      <td>2.0000</td>\n",
              "      <td>1447.7500</td>\n",
              "      <td>2127.0000</td>\n",
              "      <td>3148.00000</td>\n",
              "      <td>39320.0000</td>\n",
              "    </tr>\n",
              "    <tr>\n",
              "      <th>totalBedrooms</th>\n",
              "      <td>20640.0</td>\n",
              "      <td>537.898014</td>\n",
              "      <td>421.247906</td>\n",
              "      <td>1.0000</td>\n",
              "      <td>295.0000</td>\n",
              "      <td>435.0000</td>\n",
              "      <td>647.00000</td>\n",
              "      <td>6445.0000</td>\n",
              "    </tr>\n",
              "    <tr>\n",
              "      <th>population</th>\n",
              "      <td>20640.0</td>\n",
              "      <td>1425.476744</td>\n",
              "      <td>1132.462122</td>\n",
              "      <td>3.0000</td>\n",
              "      <td>787.0000</td>\n",
              "      <td>1166.0000</td>\n",
              "      <td>1725.00000</td>\n",
              "      <td>35682.0000</td>\n",
              "    </tr>\n",
              "    <tr>\n",
              "      <th>households</th>\n",
              "      <td>20640.0</td>\n",
              "      <td>499.539680</td>\n",
              "      <td>382.329753</td>\n",
              "      <td>1.0000</td>\n",
              "      <td>280.0000</td>\n",
              "      <td>409.0000</td>\n",
              "      <td>605.00000</td>\n",
              "      <td>6082.0000</td>\n",
              "    </tr>\n",
              "    <tr>\n",
              "      <th>medianIncome</th>\n",
              "      <td>20640.0</td>\n",
              "      <td>3.870671</td>\n",
              "      <td>1.899822</td>\n",
              "      <td>0.4999</td>\n",
              "      <td>2.5634</td>\n",
              "      <td>3.5348</td>\n",
              "      <td>4.74325</td>\n",
              "      <td>15.0001</td>\n",
              "    </tr>\n",
              "    <tr>\n",
              "      <th>medianHouseValue</th>\n",
              "      <td>20640.0</td>\n",
              "      <td>206855.816909</td>\n",
              "      <td>115395.615874</td>\n",
              "      <td>14999.0000</td>\n",
              "      <td>119600.0000</td>\n",
              "      <td>179700.0000</td>\n",
              "      <td>264725.00000</td>\n",
              "      <td>500001.0000</td>\n",
              "    </tr>\n",
              "  </tbody>\n",
              "</table>\n",
              "</div>"
            ],
            "text/plain": [
              "                    count           mean            std         min  \\\n",
              "housingMedianAge  20640.0      28.639486      12.585558      1.0000   \n",
              "totalRooms        20640.0    2635.763081    2181.615252      2.0000   \n",
              "totalBedrooms     20640.0     537.898014     421.247906      1.0000   \n",
              "population        20640.0    1425.476744    1132.462122      3.0000   \n",
              "households        20640.0     499.539680     382.329753      1.0000   \n",
              "medianIncome      20640.0       3.870671       1.899822      0.4999   \n",
              "medianHouseValue  20640.0  206855.816909  115395.615874  14999.0000   \n",
              "\n",
              "                          25%          50%           75%          max  \n",
              "housingMedianAge      18.0000      29.0000      37.00000      52.0000  \n",
              "totalRooms          1447.7500    2127.0000    3148.00000   39320.0000  \n",
              "totalBedrooms        295.0000     435.0000     647.00000    6445.0000  \n",
              "population           787.0000    1166.0000    1725.00000   35682.0000  \n",
              "households           280.0000     409.0000     605.00000    6082.0000  \n",
              "medianIncome           2.5634       3.5348       4.74325      15.0001  \n",
              "medianHouseValue  119600.0000  179700.0000  264725.00000  500001.0000  "
            ]
          },
          "execution_count": 5,
          "metadata": {},
          "output_type": "execute_result"
        }
      ],
      "source": []
    },
    {
      "cell_type": "code",
      "execution_count": null,
      "metadata": {
        "scrolled": true,
        "id": "3VQ_P9qWq5rn"
      },
      "outputs": [],
      "source": []
    },
    {
      "cell_type": "code",
      "execution_count": null,
      "metadata": {
        "id": "LD8kDuSgq5ro",
        "outputId": "1a6e9064-f9b7-4464-9ef5-a5b67c4ba687"
      },
      "outputs": [
        {
          "data": {
            "text/html": [
              "<div>\n",
              "<style scoped>\n",
              "    .dataframe tbody tr th:only-of-type {\n",
              "        vertical-align: middle;\n",
              "    }\n",
              "\n",
              "    .dataframe tbody tr th {\n",
              "        vertical-align: top;\n",
              "    }\n",
              "\n",
              "    .dataframe thead th {\n",
              "        text-align: right;\n",
              "    }\n",
              "</style>\n",
              "<table border=\"1\" class=\"dataframe\">\n",
              "  <thead>\n",
              "    <tr style=\"text-align: right;\">\n",
              "      <th></th>\n",
              "      <th>housingMedianAge</th>\n",
              "      <th>totalRooms</th>\n",
              "      <th>totalBedrooms</th>\n",
              "      <th>population</th>\n",
              "      <th>households</th>\n",
              "      <th>medianIncome</th>\n",
              "    </tr>\n",
              "  </thead>\n",
              "  <tbody>\n",
              "    <tr>\n",
              "      <th>0</th>\n",
              "      <td>41.0</td>\n",
              "      <td>880.0</td>\n",
              "      <td>129.0</td>\n",
              "      <td>322.0</td>\n",
              "      <td>126.0</td>\n",
              "      <td>8.3252</td>\n",
              "    </tr>\n",
              "    <tr>\n",
              "      <th>1</th>\n",
              "      <td>21.0</td>\n",
              "      <td>7099.0</td>\n",
              "      <td>1106.0</td>\n",
              "      <td>2401.0</td>\n",
              "      <td>1138.0</td>\n",
              "      <td>8.3014</td>\n",
              "    </tr>\n",
              "    <tr>\n",
              "      <th>2</th>\n",
              "      <td>52.0</td>\n",
              "      <td>1467.0</td>\n",
              "      <td>190.0</td>\n",
              "      <td>496.0</td>\n",
              "      <td>177.0</td>\n",
              "      <td>7.2574</td>\n",
              "    </tr>\n",
              "    <tr>\n",
              "      <th>3</th>\n",
              "      <td>52.0</td>\n",
              "      <td>1274.0</td>\n",
              "      <td>235.0</td>\n",
              "      <td>558.0</td>\n",
              "      <td>219.0</td>\n",
              "      <td>5.6431</td>\n",
              "    </tr>\n",
              "    <tr>\n",
              "      <th>4</th>\n",
              "      <td>52.0</td>\n",
              "      <td>1627.0</td>\n",
              "      <td>280.0</td>\n",
              "      <td>565.0</td>\n",
              "      <td>259.0</td>\n",
              "      <td>3.8462</td>\n",
              "    </tr>\n",
              "  </tbody>\n",
              "</table>\n",
              "</div>"
            ],
            "text/plain": [
              "   housingMedianAge  totalRooms  totalBedrooms  population  households  \\\n",
              "0              41.0       880.0          129.0       322.0       126.0   \n",
              "1              21.0      7099.0         1106.0      2401.0      1138.0   \n",
              "2              52.0      1467.0          190.0       496.0       177.0   \n",
              "3              52.0      1274.0          235.0       558.0       219.0   \n",
              "4              52.0      1627.0          280.0       565.0       259.0   \n",
              "\n",
              "   medianIncome  \n",
              "0        8.3252  \n",
              "1        8.3014  \n",
              "2        7.2574  \n",
              "3        5.6431  \n",
              "4        3.8462  "
            ]
          },
          "execution_count": 7,
          "metadata": {},
          "output_type": "execute_result"
        }
      ],
      "source": []
    },
    {
      "cell_type": "code",
      "execution_count": null,
      "metadata": {
        "id": "vFQZv8Qfq5rp"
      },
      "outputs": [],
      "source": []
    },
    {
      "cell_type": "code",
      "execution_count": null,
      "metadata": {
        "id": "OyDjoi6Mq5rp"
      },
      "outputs": [],
      "source": [
        "from sklearn.model_selection import train_test_split"
      ]
    },
    {
      "cell_type": "code",
      "execution_count": null,
      "metadata": {
        "id": "HY6OXNDoq5rp"
      },
      "outputs": [],
      "source": []
    },
    {
      "cell_type": "markdown",
      "metadata": {
        "id": "dJdIfcUJq5rq"
      },
      "source": [
        "### Scale the Feature Data\n",
        "\n",
        "** Use sklearn preprocessing to create a MinMaxScaler for the feature data. Fit this scaler only to the training data. Then use it to transform X_test and X_train. Then use the scaled X_test and X_train along with pd.Dataframe to re-create two dataframes of scaled data.**"
      ]
    },
    {
      "cell_type": "code",
      "execution_count": null,
      "metadata": {
        "id": "buSeM7Bpq5rq"
      },
      "outputs": [],
      "source": [
        "from sklearn.preprocessing import MinMaxScaler"
      ]
    },
    {
      "cell_type": "code",
      "execution_count": null,
      "metadata": {
        "id": "Ruq2Mh3hq5rr"
      },
      "outputs": [],
      "source": [
        "scaler = MinMaxScaler()"
      ]
    },
    {
      "cell_type": "code",
      "execution_count": null,
      "metadata": {
        "id": "SOPdwV8Lq5rs",
        "outputId": "556d360c-2181-4655-8d69-01f32a64dbde"
      },
      "outputs": [
        {
          "data": {
            "text/plain": [
              "MinMaxScaler()"
            ]
          },
          "execution_count": 13,
          "metadata": {},
          "output_type": "execute_result"
        }
      ],
      "source": []
    },
    {
      "cell_type": "code",
      "execution_count": null,
      "metadata": {
        "id": "Zpy1S2vOq5rt"
      },
      "outputs": [],
      "source": []
    },
    {
      "cell_type": "code",
      "execution_count": null,
      "metadata": {
        "id": "CwOSIYGJq5rt"
      },
      "outputs": [],
      "source": [
        "import numpy as np"
      ]
    },
    {
      "cell_type": "code",
      "execution_count": null,
      "metadata": {
        "id": "Fct_zmwYq5ru"
      },
      "outputs": [],
      "source": []
    },
    {
      "cell_type": "markdown",
      "metadata": {
        "id": "g6uuYG0Xq5ru"
      },
      "source": [
        "### Create Feature Columns\n",
        "\n",
        "** Create the necessary tf.feature_column objects for the estimator. They should all be trated as continuous numeric_columns. **"
      ]
    },
    {
      "cell_type": "code",
      "execution_count": null,
      "metadata": {
        "id": "IIH6b1Twq5ru",
        "outputId": "6ef8dbc3-a381-46b9-fce2-7fe151270e91"
      },
      "outputs": [
        {
          "data": {
            "text/plain": [
              "Index(['housingMedianAge', 'totalRooms', 'totalBedrooms', 'population',\n",
              "       'households', 'medianIncome', 'medianHouseValue'],\n",
              "      dtype='object')"
            ]
          },
          "execution_count": 17,
          "metadata": {},
          "output_type": "execute_result"
        }
      ],
      "source": []
    },
    {
      "cell_type": "code",
      "execution_count": null,
      "metadata": {
        "id": "rV13s8NTq5rv",
        "outputId": "2120325c-bc08-4ada-b7fc-4e3e06a7b4bf"
      },
      "outputs": [
        {
          "name": "stdout",
          "output_type": "stream",
          "text": [
            "WARNING:tensorflow:From C:\\Users\\Farid\\anaconda3-NEW\\lib\\site-packages\\tensorflow\\python\\compat\\v2_compat.py:101: disable_resource_variables (from tensorflow.python.ops.variable_scope) is deprecated and will be removed in a future version.\n",
            "Instructions for updating:\n",
            "non-resource variables are not supported in the long term\n"
          ]
        }
      ],
      "source": [
        "import tensorflow.compat.v1 as tf\n",
        "tf.disable_v2_behavior()"
      ]
    },
    {
      "cell_type": "code",
      "execution_count": null,
      "metadata": {
        "id": "7T-z_pkaq5rw"
      },
      "outputs": [],
      "source": []
    },
    {
      "cell_type": "code",
      "execution_count": null,
      "metadata": {
        "id": "oym3IDaWq5rw"
      },
      "outputs": [],
      "source": []
    },
    {
      "cell_type": "markdown",
      "metadata": {
        "id": "9OPznEl3q5rw"
      },
      "source": [
        "** Create the input function for the estimator object. (play around with batch_size and num_epochs)**"
      ]
    },
    {
      "cell_type": "code",
      "execution_count": null,
      "metadata": {
        "id": "BsvYuQTLq5rx",
        "outputId": "b8bd0990-e6e3-4b16-db9e-6dc7476d997e"
      },
      "outputs": [
        {
          "name": "stdout",
          "output_type": "stream",
          "text": [
            "WARNING:tensorflow:From C:\\Users\\Farid\\anaconda3-NEW\\lib\\site-packages\\tensorflow\\python\\util\\lazy_loader.py:63: The name tf.estimator.inputs is deprecated. Please use tf.compat.v1.estimator.inputs instead.\n",
            "\n"
          ]
        }
      ],
      "source": []
    },
    {
      "cell_type": "markdown",
      "metadata": {
        "id": "w_p0xLYWq5rx"
      },
      "source": [
        "** Create the estimator model. Use a DNNRegressor. Play around with the hidden units! **"
      ]
    },
    {
      "cell_type": "code",
      "execution_count": null,
      "metadata": {
        "id": "fBWZzHPoq5ry",
        "outputId": "335fd45a-7daa-4c62-bea8-f9cdc6b1181f"
      },
      "outputs": [
        {
          "name": "stdout",
          "output_type": "stream",
          "text": [
            "INFO:tensorflow:Using default config.\n",
            "WARNING:tensorflow:Using temporary folder as model directory: C:\\Users\\Farid\\AppData\\Local\\Temp\\tmpdp3tije0\n",
            "INFO:tensorflow:Using config: {'_model_dir': 'C:\\\\Users\\\\Farid\\\\AppData\\\\Local\\\\Temp\\\\tmpdp3tije0', '_tf_random_seed': None, '_save_summary_steps': 100, '_save_checkpoints_steps': None, '_save_checkpoints_secs': 600, '_session_config': allow_soft_placement: true\n",
            "graph_options {\n",
            "  rewrite_options {\n",
            "    meta_optimizer_iterations: ONE\n",
            "  }\n",
            "}\n",
            ", '_keep_checkpoint_max': 5, '_keep_checkpoint_every_n_hours': 10000, '_log_step_count_steps': 100, '_train_distribute': None, '_device_fn': None, '_protocol': None, '_eval_distribute': None, '_experimental_distribute': None, '_experimental_max_worker_delay_secs': None, '_session_creation_timeout_secs': 7200, '_checkpoint_save_graph_def': True, '_service': None, '_cluster_spec': ClusterSpec({}), '_task_type': 'worker', '_task_id': 0, '_global_id_in_cluster': 0, '_master': '', '_evaluation_master': '', '_is_chief': True, '_num_ps_replicas': 0, '_num_worker_replicas': 1}\n"
          ]
        }
      ],
      "source": []
    },
    {
      "cell_type": "markdown",
      "metadata": {
        "id": "WifaN_7Hq5ry"
      },
      "source": [
        "##### ** Train the model for ~1,000 steps. (Later come back to this and train it for more and check for improvement) **"
      ]
    },
    {
      "cell_type": "code",
      "execution_count": null,
      "metadata": {
        "id": "Ndc3UCOJq5ry",
        "outputId": "e869a52d-d99b-4479-ea79-ee43b8e24aa2"
      },
      "outputs": [
        {
          "name": "stdout",
          "output_type": "stream",
          "text": [
            "WARNING:tensorflow:From C:\\Users\\Farid\\anaconda3-NEW\\lib\\site-packages\\tensorflow\\python\\training\\training_util.py:235: Variable.initialized_value (from tensorflow.python.ops.variables) is deprecated and will be removed in a future version.\n",
            "Instructions for updating:\n",
            "Use Variable.read_value. Variables in 2.X are initialized automatically both in eager and graph (inside tf.defun) contexts.\n",
            "WARNING:tensorflow:From C:\\Users\\Farid\\anaconda3-NEW\\lib\\site-packages\\tensorflow_estimator\\python\\estimator\\inputs\\queues\\feeding_queue_runner.py:60: QueueRunner.__init__ (from tensorflow.python.training.queue_runner_impl) is deprecated and will be removed in a future version.\n",
            "Instructions for updating:\n",
            "To construct input pipelines, use the `tf.data` module.\n",
            "WARNING:tensorflow:From C:\\Users\\Farid\\anaconda3-NEW\\lib\\site-packages\\tensorflow_estimator\\python\\estimator\\inputs\\queues\\feeding_functions.py:491: add_queue_runner (from tensorflow.python.training.queue_runner_impl) is deprecated and will be removed in a future version.\n",
            "Instructions for updating:\n",
            "To construct input pipelines, use the `tf.data` module.\n",
            "INFO:tensorflow:Calling model_fn.\n",
            "INFO:tensorflow:Done calling model_fn.\n",
            "INFO:tensorflow:Create CheckpointSaverHook.\n",
            "INFO:tensorflow:Graph was finalized.\n",
            "INFO:tensorflow:Running local_init_op.\n",
            "INFO:tensorflow:Done running local_init_op.\n",
            "WARNING:tensorflow:From C:\\Users\\Farid\\anaconda3-NEW\\lib\\site-packages\\tensorflow\\python\\training\\monitored_session.py:907: start_queue_runners (from tensorflow.python.training.queue_runner_impl) is deprecated and will be removed in a future version.\n",
            "Instructions for updating:\n",
            "To construct input pipelines, use the `tf.data` module.\n",
            "INFO:tensorflow:Calling checkpoint listeners before saving checkpoint 0...\n",
            "INFO:tensorflow:Saving checkpoints for 0 into C:\\Users\\Farid\\AppData\\Local\\Temp\\tmpdp3tije0\\model.ckpt.\n",
            "INFO:tensorflow:Calling checkpoint listeners after saving checkpoint 0...\n",
            "INFO:tensorflow:loss = 529516920000.0, step = 1\n",
            "WARNING:tensorflow:It seems that global step (tf.train.get_global_step) has not been increased. Current value (could be stable): 53 vs previous value: 53. You could increase the global step by passing tf.train.get_global_step() to Optimizer.apply_gradients or Optimizer.minimize.\n",
            "WARNING:tensorflow:It seems that global step (tf.train.get_global_step) has not been increased. Current value (could be stable): 79 vs previous value: 79. You could increase the global step by passing tf.train.get_global_step() to Optimizer.apply_gradients or Optimizer.minimize.\n",
            "WARNING:tensorflow:It seems that global step (tf.train.get_global_step) has not been increased. Current value (could be stable): 95 vs previous value: 95. You could increase the global step by passing tf.train.get_global_step() to Optimizer.apply_gradients or Optimizer.minimize.\n",
            "INFO:tensorflow:global_step/sec: 187.132\n",
            "INFO:tensorflow:loss = 416932360000.0, step = 101 (0.546 sec)\n",
            "WARNING:tensorflow:It seems that global step (tf.train.get_global_step) has not been increased. Current value (could be stable): 104 vs previous value: 104. You could increase the global step by passing tf.train.get_global_step() to Optimizer.apply_gradients or Optimizer.minimize.\n",
            "WARNING:tensorflow:It seems that global step (tf.train.get_global_step) has not been increased. Current value (could be stable): 155 vs previous value: 155. You could increase the global step by passing tf.train.get_global_step() to Optimizer.apply_gradients or Optimizer.minimize.\n",
            "INFO:tensorflow:global_step/sec: 268.626\n",
            "INFO:tensorflow:loss = 540681300000.0, step = 201 (0.367 sec)\n",
            "INFO:tensorflow:global_step/sec: 303.734\n",
            "INFO:tensorflow:loss = 446633250000.0, step = 301 (0.329 sec)\n",
            "INFO:tensorflow:global_step/sec: 302.816\n",
            "INFO:tensorflow:loss = 323841950000.0, step = 401 (0.344 sec)\n",
            "INFO:tensorflow:global_step/sec: 254.92\n",
            "INFO:tensorflow:loss = 557288800000.0, step = 501 (0.380 sec)\n",
            "INFO:tensorflow:global_step/sec: 319.261\n",
            "INFO:tensorflow:loss = 322420340000.0, step = 601 (0.324 sec)\n",
            "INFO:tensorflow:global_step/sec: 296.525\n",
            "INFO:tensorflow:loss = 681238700000.0, step = 701 (0.341 sec)\n",
            "INFO:tensorflow:global_step/sec: 253.626\n",
            "INFO:tensorflow:loss = 180570910000.0, step = 801 (0.380 sec)\n",
            "INFO:tensorflow:global_step/sec: 323.396\n",
            "INFO:tensorflow:loss = 633548960000.0, step = 901 (0.312 sec)\n",
            "INFO:tensorflow:global_step/sec: 301.899\n",
            "INFO:tensorflow:loss = 155315950000.0, step = 1001 (0.328 sec)\n",
            "INFO:tensorflow:global_step/sec: 300.085\n",
            "INFO:tensorflow:loss = 862430900000.0, step = 1101 (0.328 sec)\n",
            "INFO:tensorflow:global_step/sec: 286.331\n",
            "INFO:tensorflow:loss = 392744170000.0, step = 1201 (0.358 sec)\n",
            "INFO:tensorflow:global_step/sec: 281.49\n",
            "INFO:tensorflow:loss = 501451230000.0, step = 1301 (0.349 sec)\n",
            "INFO:tensorflow:global_step/sec: 295.646\n",
            "INFO:tensorflow:loss = 394819600000.0, step = 1401 (0.337 sec)\n",
            "INFO:tensorflow:global_step/sec: 229.721\n",
            "INFO:tensorflow:loss = 594525950000.0, step = 1501 (0.433 sec)\n",
            "INFO:tensorflow:global_step/sec: 218.187\n",
            "INFO:tensorflow:loss = 276287320000.0, step = 1601 (0.467 sec)\n",
            "INFO:tensorflow:global_step/sec: 270.809\n",
            "INFO:tensorflow:loss = 965697700000.0, step = 1701 (0.368 sec)\n",
            "INFO:tensorflow:global_step/sec: 246.129\n",
            "INFO:tensorflow:loss = 507186640000.0, step = 1801 (0.403 sec)\n",
            "INFO:tensorflow:global_step/sec: 272.288\n",
            "INFO:tensorflow:loss = 471740550000.0, step = 1901 (0.364 sec)\n",
            "INFO:tensorflow:global_step/sec: 305.593\n",
            "INFO:tensorflow:loss = 445991120000.0, step = 2001 (0.325 sec)\n",
            "INFO:tensorflow:global_step/sec: 239.064\n",
            "INFO:tensorflow:loss = 635230900000.0, step = 2101 (0.420 sec)\n",
            "INFO:tensorflow:global_step/sec: 283.889\n",
            "INFO:tensorflow:loss = 554415550000.0, step = 2201 (0.352 sec)\n",
            "INFO:tensorflow:global_step/sec: 287.979\n",
            "INFO:tensorflow:loss = 433107000000.0, step = 2301 (0.354 sec)\n",
            "INFO:tensorflow:global_step/sec: 279.13\n",
            "INFO:tensorflow:loss = 787473500000.0, step = 2401 (0.349 sec)\n",
            "INFO:tensorflow:Calling checkpoint listeners before saving checkpoint 2500...\n",
            "INFO:tensorflow:Saving checkpoints for 2500 into C:\\Users\\Farid\\AppData\\Local\\Temp\\tmpdp3tije0\\model.ckpt.\n",
            "INFO:tensorflow:Calling checkpoint listeners after saving checkpoint 2500...\n",
            "INFO:tensorflow:Loss for final step: 262587610000.0.\n"
          ]
        },
        {
          "data": {
            "text/plain": [
              "<tensorflow_estimator.python.estimator.canned.dnn.DNNRegressor at 0x7dd0d476d0>"
            ]
          },
          "execution_count": 24,
          "metadata": {},
          "output_type": "execute_result"
        }
      ],
      "source": []
    },
    {
      "cell_type": "markdown",
      "metadata": {
        "id": "yN0g_JHWq5rz"
      },
      "source": [
        "** Create a prediction input function and then use the .predict method off your estimator model to create a list or predictions on your test data. **"
      ]
    },
    {
      "cell_type": "code",
      "execution_count": null,
      "metadata": {
        "id": "UAcRjLe3q5rz"
      },
      "outputs": [],
      "source": []
    },
    {
      "cell_type": "code",
      "execution_count": null,
      "metadata": {
        "id": "gyYUReeEq5rz"
      },
      "outputs": [],
      "source": []
    },
    {
      "cell_type": "code",
      "execution_count": null,
      "metadata": {
        "id": "KrHYLvG7q5r4",
        "outputId": "7028a9de-aad6-40e9-af79-c4a2601abedb"
      },
      "outputs": [
        {
          "data": {
            "text/plain": [
              "<generator object Estimator.predict at 0x0000007DDF0686D0>"
            ]
          },
          "execution_count": 28,
          "metadata": {},
          "output_type": "execute_result"
        }
      ],
      "source": []
    },
    {
      "cell_type": "code",
      "execution_count": null,
      "metadata": {
        "id": "_B0s9OvDq5r4",
        "outputId": "15774dd4-c3f3-4d8a-a972-8b29abc5298c"
      },
      "outputs": [
        {
          "name": "stdout",
          "output_type": "stream",
          "text": [
            "INFO:tensorflow:Calling model_fn.\n",
            "INFO:tensorflow:Done calling model_fn.\n",
            "INFO:tensorflow:Graph was finalized.\n",
            "INFO:tensorflow:Restoring parameters from C:\\Users\\Farid\\AppData\\Local\\Temp\\tmpdp3tije0\\model.ckpt-2500\n",
            "INFO:tensorflow:Running local_init_op.\n",
            "INFO:tensorflow:Done running local_init_op.\n"
          ]
        }
      ],
      "source": [
        "predictions = list(pred_gen)"
      ]
    },
    {
      "cell_type": "markdown",
      "metadata": {
        "id": "qObMr30Dq5r5"
      },
      "source": [
        "** Calculate the RMSE. Do this manually or use [sklearn.metrics](http://scikit-learn.org/stable/modules/generated/sklearn.metrics.mean_squared_error.html) **"
      ]
    },
    {
      "cell_type": "code",
      "execution_count": null,
      "metadata": {
        "id": "kATz_ai1q5r5"
      },
      "outputs": [],
      "source": []
    },
    {
      "cell_type": "code",
      "execution_count": null,
      "metadata": {
        "id": "_qpduuxMq5r6"
      },
      "outputs": [],
      "source": [
        "from sklearn.metrics import mean_squared_error"
      ]
    },
    {
      "cell_type": "code",
      "execution_count": null,
      "metadata": {
        "id": "BvUrVJI8q5sI",
        "outputId": "44aaa239-c4c9-403d-c3a1-dcde3c183000"
      },
      "outputs": [
        {
          "data": {
            "text/plain": [
              "238025.47821626568"
            ]
          },
          "execution_count": 32,
          "metadata": {},
          "output_type": "execute_result"
        }
      ],
      "source": []
    },
    {
      "cell_type": "code",
      "execution_count": null,
      "metadata": {
        "id": "-_TntyNYq5sI"
      },
      "outputs": [],
      "source": []
    },
    {
      "cell_type": "code",
      "execution_count": null,
      "metadata": {
        "id": "D1og57jOq5sJ"
      },
      "outputs": [],
      "source": []
    }
  ],
  "metadata": {
    "kernelspec": {
      "display_name": "Python 3",
      "language": "python",
      "name": "python3"
    },
    "language_info": {
      "codemirror_mode": {
        "name": "ipython",
        "version": 3
      },
      "file_extension": ".py",
      "mimetype": "text/x-python",
      "name": "python",
      "nbconvert_exporter": "python",
      "pygments_lexer": "ipython3",
      "version": "3.8.5"
    },
    "colab": {
      "provenance": []
    }
  },
  "nbformat": 4,
  "nbformat_minor": 0
}